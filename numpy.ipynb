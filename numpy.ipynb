{
 "cells": [
  {
   "cell_type": "code",
   "execution_count": 1,
   "id": "9224df03-f13a-4c39-92f1-8f98f293c38c",
   "metadata": {},
   "outputs": [
    {
     "name": "stdout",
     "output_type": "stream",
     "text": [
      "int64\n"
     ]
    }
   ],
   "source": [
    "import numpy as np\n",
    "\n",
    "arr = np.array([1, 2, 3, 4])\n",
    "\n",
    "print(arr.dtype)"
   ]
  },
  {
   "cell_type": "code",
   "execution_count": 2,
   "id": "daa26cae-45d0-46f2-b381-9819d8b2c19d",
   "metadata": {},
   "outputs": [
    {
     "name": "stdout",
     "output_type": "stream",
     "text": [
      "True\n"
     ]
    }
   ],
   "source": [
    "import numpy as np\n",
    "\n",
    "arr = np.array([1.5, 2.6, 3.7])\n",
    "\n",
    "is_float64 = arr.dtype == np.float64\n",
    "\n",
    "print(is_float64)"
   ]
  },
  {
   "cell_type": "code",
   "execution_count": 3,
   "id": "85523175-3131-4b69-822f-943412d4e2bc",
   "metadata": {},
   "outputs": [
    {
     "name": "stdout",
     "output_type": "stream",
     "text": [
      "[1.+2.j 3.+4.j 5.+6.j]\n",
      "complex128\n"
     ]
    }
   ],
   "source": [
    "import numpy as np\n",
    "\n",
    "arr = np.array([1+2j, 3+4j, 5+6j], dtype=np.complex128)\n",
    "\n",
    "print(arr)\n",
    "print(arr.dtype)"
   ]
  },
  {
   "cell_type": "code",
   "execution_count": 4,
   "id": "2f027535-45c6-47de-850f-3643082939cc",
   "metadata": {},
   "outputs": [
    {
     "name": "stdout",
     "output_type": "stream",
     "text": [
      "[1.23456789 2.3456789  3.456789  ]\n",
      "[1.2345679 2.3456788 3.456789 ]\n"
     ]
    }
   ],
   "source": [
    "import numpy as np\n",
    "\n",
    "arr = np.array([1.23456789, 2.3456789, 3.456789], dtype=np.float64)\n",
    "\n",
    "# Convert to float32\n",
    "arr_float32 = arr.astype(np.float32)\n",
    "\n",
    "print(arr)\n",
    "print(arr_float32)"
   ]
  },
  {
   "cell_type": "code",
   "execution_count": null,
   "id": "279ecc3b-3107-43ed-8638-d55f8530d535",
   "metadata": {},
   "outputs": [],
   "source": [
    " 4. Convert an existing NumPy array 'arr' of integers to float32 data type.\n"
   ]
  },
  {
   "cell_type": "code",
   "execution_count": 5,
   "id": "1c2cc8dd-f382-42d4-a988-8140cb6e5b85",
   "metadata": {},
   "outputs": [
    {
     "name": "stdout",
     "output_type": "stream",
     "text": [
      "[1. 2. 3. 4.]\n"
     ]
    }
   ],
   "source": [
    "import numpy as np\n",
    "\n",
    "\n",
    "\n",
    "arr = np.array([1, 2, 3, 4])  # Example integer array\n",
    "\n",
    "arr_float32 = arr.astype(np.float32)  \n",
    "\n",
    "\n",
    "\n",
    "print(arr_float32)  \n",
    "\n",
    "# Output: [1. 2. 3. 4.]\n"
   ]
  },
  {
   "cell_type": "code",
   "execution_count": null,
   "id": "b92e0edc-70cf-4d90-b6b7-4688c7e9377c",
   "metadata": {},
   "outputs": [],
   "source": [
    " 6. Write a function array_attributes that takes a NumPy array as input and returns its shape, size, and data type \n"
   ]
  },
  {
   "cell_type": "code",
   "execution_count": 13,
   "id": "2d13eef7-b1ca-42f1-b488-eaf3d91a7448",
   "metadata": {},
   "outputs": [
    {
     "name": "stdout",
     "output_type": "stream",
     "text": [
      "(2, 4)\n",
      "(2, 2, 2)\n",
      "8\n",
      "int64\n"
     ]
    }
   ],
   "source": [
    "import numpy as npy\n",
    "\n",
    "# creating a 2-d array\n",
    "arr1 = npy.array([[1, 3, 5, 7], [2, 4, 6, 8]])\n",
    "\n",
    "# creating a 3-d array\n",
    "arr2 = npy.array([[[1, 2], [3, 4]], [[5, 6], [7, 8]]])\n",
    "\n",
    "print(arr1.shape)\n",
    "print(arr2.shape)\n",
    "print(arr1.size)\n",
    "print(arr1.dtype) "
   ]
  },
  {
   "cell_type": "code",
   "execution_count": null,
   "id": "0f26ef30-7b64-4397-b369-471dca201193",
   "metadata": {},
   "outputs": [],
   "source": [
    "7. Create a function array_dimension that takes a NumPy array as input and returns its dimensionality.\n"
   ]
  },
  {
   "cell_type": "code",
   "execution_count": 15,
   "id": "cd121d54-5c3b-4cb6-8fd2-ef39fa85d883",
   "metadata": {},
   "outputs": [
    {
     "name": "stdout",
     "output_type": "stream",
     "text": [
      "[1 2 3]\n",
      "[[1 2]\n",
      " [3 4]]\n"
     ]
    }
   ],
   "source": [
    "arr_1d = np.array([1, 2, 3])  # 1-dimensional array\n",
    "arr_2d = np.array([[1, 2], [3, 4]])  # 2-dimensional array \n",
    "\n",
    "print((arr_1d)) \n",
    "print((arr_2d))  "
   ]
  },
  {
   "cell_type": "code",
   "execution_count": null,
   "id": "395956b9-0de7-475e-96f3-2d7fec7d1c48",
   "metadata": {},
   "outputs": [],
   "source": [
    " 8. Design a function item_size_info that takes a NumPy array as input and returns the item size and the total size in bytes.\n",
    "\n"
   ]
  },
  {
   "cell_type": "code",
   "execution_count": 16,
   "id": "9eb9c38c-981a-49ca-bc10-75c52003ce99",
   "metadata": {},
   "outputs": [
    {
     "name": "stdout",
     "output_type": "stream",
     "text": [
      "Memory size of a NumPy array: 24\n"
     ]
    }
   ],
   "source": [
    "# import library\n",
    "import numpy as np\n",
    "\n",
    "# create numpy 1d-array\n",
    "x = np.array([100, 20, 34])\n",
    "\n",
    "print(\"Memory size of a NumPy array:\",\n",
    "\tx.nbytes)\n"
   ]
  },
  {
   "cell_type": "code",
   "execution_count": null,
   "id": "083911ac-b79b-409c-859b-12d4886b4e4d",
   "metadata": {},
   "outputs": [],
   "source": [
    " 9. Create a function array_strides that takes a NumPy array as input and returns the strides of the array.\n"
   ]
  },
  {
   "cell_type": "code",
   "execution_count": 20,
   "id": "6aa1432e-1a9b-44de-8140-8557c2987715",
   "metadata": {},
   "outputs": [
    {
     "name": "stdout",
     "output_type": "stream",
     "text": [
      "(24, 8)\n"
     ]
    }
   ],
   "source": [
    "arr = np.array([[8, 2, 3], [7, 5, 6]])\n",
    "\n",
    "print(arr.strides) "
   ]
  },
  {
   "cell_type": "code",
   "execution_count": null,
   "id": "a1b61a5a-1ab9-4aff-82ff-fd127b8bd3d6",
   "metadata": {},
   "outputs": [],
   "source": [
    " 10. Design a function shape_stride_relationship that takes a NumPy array as input and returns the shape and strides of the array.\n",
    "\n"
   ]
  },
  {
   "cell_type": "code",
   "execution_count": 21,
   "id": "7fb6c864-e6d3-4c1d-be2d-28c2a17b00a5",
   "metadata": {},
   "outputs": [
    {
     "ename": "NameError",
     "evalue": "name 'shape_stride_relationship' is not defined",
     "output_type": "error",
     "traceback": [
      "\u001b[1;31m---------------------------------------------------------------------------\u001b[0m",
      "\u001b[1;31mNameError\u001b[0m                                 Traceback (most recent call last)",
      "Cell \u001b[1;32mIn[21], line 2\u001b[0m\n\u001b[0;32m      1\u001b[0m arr \u001b[38;5;241m=\u001b[39m np\u001b[38;5;241m.\u001b[39marray([[\u001b[38;5;241m1\u001b[39m, \u001b[38;5;241m2\u001b[39m, \u001b[38;5;241m3\u001b[39m], [\u001b[38;5;241m4\u001b[39m, \u001b[38;5;241m5\u001b[39m, \u001b[38;5;241m6\u001b[39m]], dtype\u001b[38;5;241m=\u001b[39mnp\u001b[38;5;241m.\u001b[39mint64)\n\u001b[1;32m----> 2\u001b[0m shape, strides \u001b[38;5;241m=\u001b[39m \u001b[43mshape_stride_relationship\u001b[49m(arr)\n\u001b[0;32m      3\u001b[0m \u001b[38;5;28mprint\u001b[39m(\u001b[38;5;124mf\u001b[39m\u001b[38;5;124m\"\u001b[39m\u001b[38;5;124mShape: \u001b[39m\u001b[38;5;132;01m{\u001b[39;00mshape\u001b[38;5;132;01m}\u001b[39;00m\u001b[38;5;124m\"\u001b[39m)\n\u001b[0;32m      4\u001b[0m \u001b[38;5;28mprint\u001b[39m(\u001b[38;5;124mf\u001b[39m\u001b[38;5;124m\"\u001b[39m\u001b[38;5;124mStrides: \u001b[39m\u001b[38;5;132;01m{\u001b[39;00mstrides\u001b[38;5;132;01m}\u001b[39;00m\u001b[38;5;124m\"\u001b[39m)\n",
      "\u001b[1;31mNameError\u001b[0m: name 'shape_stride_relationship' is not defined"
     ]
    }
   ],
   "source": [
    " \n",
    "arr = np.array([[1, 2, 3], [4, 5, 6]], dtype=np.int64)\n",
    "shape, strides = shape_stride_relationship(arr)\n",
    "print(f\"Shape: {shape}\")\n",
    "print(f\"Strides: {strides}\")"
   ]
  },
  {
   "cell_type": "code",
   "execution_count": null,
   "id": "b8d53d49-ba56-475f-a69b-40a2c9838da8",
   "metadata": {},
   "outputs": [],
   "source": [
    " 11. Create a function `create_zeros_array` that takes an integer `n` as input and returns a NumPy array of zeros with `n` elements.\n",
    "\n"
   ]
  },
  {
   "cell_type": "code",
   "execution_count": 23,
   "id": "c1db12e9-c4da-4fff-871c-356b1890f638",
   "metadata": {},
   "outputs": [
    {
     "name": "stdout",
     "output_type": "stream",
     "text": [
      "[[0. 0. 0.]\n",
      " [0. 0. 0.]\n",
      " [0. 0. 0.]]\n"
     ]
    }
   ],
   "source": [
    "import numpy as np\n",
    "\n",
    "# Create a 3x3 array of zeros\n",
    "zero_array = np.zeros((3, 3))\n",
    "print(zero_array)\n"
   ]
  },
  {
   "cell_type": "code",
   "execution_count": null,
   "id": "7bf338c2-b026-4389-83bd-6bcb9ce9474e",
   "metadata": {},
   "outputs": [],
   "source": [
    " 12. Write a function `create_ones_matrix` that takes integers `rows` and `cols` as inputs and generates a 2D NumPy array filled with ones of size `rows x cols`.\n",
    "\n"
   ]
  },
  {
   "cell_type": "code",
   "execution_count": 25,
   "id": "972b6183-451d-4337-baf2-3b8f89f9e11e",
   "metadata": {},
   "outputs": [
    {
     "name": "stdout",
     "output_type": "stream",
     "text": [
      "[1. 1. 1. 1. 1.]\n"
     ]
    }
   ],
   "source": [
    "import numpy as np\n",
    "\n",
    "array = np.ones(5)\n",
    "print(array) \n"
   ]
  },
  {
   "cell_type": "code",
   "execution_count": null,
   "id": "8165fb73-ce2b-40ce-a3a5-8f8c67ab57fb",
   "metadata": {},
   "outputs": [],
   "source": [
    " 13. Write a function `generate_range_array` that takes three integers start, stop, and step as arguments and creates a NumPy array with a range starting from `start`, ending at stop (exclusive), and with the specified \n",
    "\n"
   ]
  },
  {
   "cell_type": "code",
   "execution_count": 3,
   "id": "5a8270de-fb15-4ad9-b009-68be6194f447",
   "metadata": {},
   "outputs": [],
   "source": [
    "import numpy as np\n",
    "\n",
    "start = 0\n",
    "step = 1.25\n",
    "num = 9\n",
    "\n",
    "result = start + np.arange(0, num) * step"
   ]
  },
  {
   "cell_type": "code",
   "execution_count": null,
   "id": "b6fe83d5-2248-4bc2-94e3-7d38f78c37aa",
   "metadata": {},
   "outputs": [],
   "source": [
    " 15. Create a function `create_identity_matrix` that takes an integer `n` as input and generates a square identity matrix of size `n x n` using `numpy.eye`.\n",
    "\n"
   ]
  },
  {
   "cell_type": "code",
   "execution_count": 4,
   "id": "2ce98962-4e84-4c61-935e-93d301579297",
   "metadata": {},
   "outputs": [
    {
     "name": "stdout",
     "output_type": "stream",
     "text": [
      "[[1. 0.]\n",
      " [0. 1.]]\n"
     ]
    }
   ],
   "source": [
    "import numpy as np\n",
    "\n",
    "# Creating a 2*2 identity matrix\n",
    "identity_matrix = np.eye(2)\n",
    "print(identity_matrix)"
   ]
  },
  {
   "cell_type": "code",
   "execution_count": null,
   "id": "a01444d8-4725-46e7-802c-a6d51e6d1784",
   "metadata": {},
   "outputs": [],
   "source": [
    " 16. Write a function that takes a Python list and converts it into a NumPy array.\n"
   ]
  },
  {
   "cell_type": "code",
   "execution_count": 5,
   "id": "4bcd853e-4770-4b34-9b47-fb22daeb41a2",
   "metadata": {},
   "outputs": [
    {
     "name": "stdout",
     "output_type": "stream",
     "text": [
      "[1 2 3 4 5]\n"
     ]
    }
   ],
   "source": [
    "import numpy as np\n",
    "\n",
    "a = [1, 2, 3, 4, 5]\n",
    "\n",
    "# Convert the list to a NumPy array\n",
    "arr = np.array(a)\n",
    "\n",
    "print(arr)"
   ]
  },
  {
   "cell_type": "code",
   "execution_count": null,
   "id": "7d3858ec-d7cc-4491-8f37-fed1086839db",
   "metadata": {},
   "outputs": [],
   "source": [
    " 17. Create a NumPy array and demonstrate the use of `numpy.view` to create a new array object with the same data\n"
   ]
  },
  {
   "cell_type": "code",
   "execution_count": 8,
   "id": "18c35fa4-c084-468e-9c96-75450f3ca1fb",
   "metadata": {},
   "outputs": [
    {
     "name": "stdout",
     "output_type": "stream",
     "text": [
      "Original array:\n",
      "[1 2 3 4 5]\n",
      "Original array id:\n",
      "2344825860432\n",
      "\n",
      "View of the array:\n",
      "[1 2 3 4 5]\n",
      "View array id:\n",
      "2344825860336\n",
      "\n",
      "Modified view:\n",
      "[10  2  3  4  5]\n",
      "Original array after modifying the view:\n",
      "[10  2  3  4  5]\n"
     ]
    }
   ],
   "source": [
    "import numpy as np\n",
    "\n",
    "\n",
    "# Create a NumPy array\n",
    "arr = np.array([1, 2, 3, 4, 5])\n",
    "print(\"Original array:\")\n",
    "print(arr)\n",
    "print(\"Original array id:\")\n",
    "print(id(arr))\n",
    "\n",
    "# Create a view of the array\n",
    "arr_view = arr.view()\n",
    "print(\"\\nView of the array:\")\n",
    "print(arr_view)\n",
    "print(\"View array id:\")\n",
    "print(id(arr_view))\n",
    "\n",
    "# Modify the view\n",
    "arr_view[0] = 10\n",
    "print(\"\\nModified view:\")\n",
    "print(arr_view)\n",
    "\n",
    "# The original array is also modified\n",
    "print(\"Original array after modifying the view:\")\n",
    "print(arr)"
   ]
  },
  {
   "cell_type": "code",
   "execution_count": null,
   "id": "9eb63244-ea47-4082-a20f-5a38d220b810",
   "metadata": {},
   "outputs": [],
   "source": [
    " 19.  Create two NumPy arrays with different shapes and concatenate them horizontally using `numpy. concatenate`.\n",
    "\n"
   ]
  },
  {
   "cell_type": "code",
   "execution_count": 1,
   "id": "534cdf15-d788-482b-9fcd-8d304d3d23fe",
   "metadata": {},
   "outputs": [
    {
     "data": {
      "text/plain": [
       "array([[ 1,  2,  3],\n",
       "       [ 4,  5,  6],\n",
       "       [ 7,  8,  9],\n",
       "       [10, 11, 12],\n",
       "       [13, 14, 15],\n",
       "       [16, 17, 18]])"
      ]
     },
     "execution_count": 1,
     "metadata": {},
     "output_type": "execute_result"
    }
   ],
   "source": [
    "# Program to concatenate two 2D arrays row-wise\n",
    "import numpy as np\n",
    "\n",
    "# Creating two 2D arrays\n",
    "arr1 = np.arange(1, 10).reshape(3, 3)\n",
    "arr2 = np.arange(10, 19).reshape(3, 3)\n",
    "\n",
    "# axis = 0 implies that it is being done row-wise\n",
    "np.concatenate((arr1, arr2), axis=0)\n"
   ]
  },
  {
   "cell_type": "code",
   "execution_count": null,
   "id": "487d2c67-6aed-4d2d-b9f6-2d417a4fab5c",
   "metadata": {},
   "outputs": [],
   "source": [
    " 20. Write a function that vertically stacks multiple NumPy arrays given as a list.\n"
   ]
  },
  {
   "cell_type": "code",
   "execution_count": 2,
   "id": "4bb9ab85-158c-430b-89a6-74c869b9e687",
   "metadata": {},
   "outputs": [
    {
     "name": "stdout",
     "output_type": "stream",
     "text": [
      "[[1 2 3]\n",
      " [4 5 6]]\n"
     ]
    }
   ],
   "source": [
    "import numpy as np\n",
    "\n",
    "# input array\n",
    "a = np.array([1, 2, 3])\n",
    "b = np.array([4, 5, 6])\n",
    "\n",
    "# Stacking 2 1-d arrays\n",
    "c = np.stack((a, b),axis=0)\n",
    "print(c)\n"
   ]
  },
  {
   "cell_type": "code",
   "execution_count": null,
   "id": "e1a061f9-be8a-4a6c-9272-9a3dece08af9",
   "metadata": {},
   "outputs": [],
   "source": [
    " 21. Write a Python function using NumPy to create an array of integers within a specified range (inclusive) with a given step size.\n",
    "\n"
   ]
  },
  {
   "cell_type": "code",
   "execution_count": 3,
   "id": "c26748c2-7869-45d4-8bb6-cdfc891be6bd",
   "metadata": {},
   "outputs": [
    {
     "name": "stdout",
     "output_type": "stream",
     "text": [
      "[5 6 7 8 9]\n"
     ]
    }
   ],
   "source": [
    "import numpy as np \n",
    "\n",
    "#create an array \n",
    "arr= np.arange(5 , 10)\n",
    "print(arr)\n"
   ]
  },
  {
   "cell_type": "code",
   "execution_count": null,
   "id": "c93c336f-dddf-47c9-b709-fdeef52021f4",
   "metadata": {},
   "outputs": [],
   "source": [
    " 22. Write a Python function using NumPy to generate an array of 10 equally spaced values between 0 and 1 (inclusive).\n",
    "\n"
   ]
  },
  {
   "cell_type": "code",
   "execution_count": 4,
   "id": "64f1d602-48cd-4972-b6db-aa2f6dea2387",
   "metadata": {},
   "outputs": [
    {
     "name": "stdout",
     "output_type": "stream",
     "text": [
      "[0.         0.11111111 0.22222222 0.33333333 0.44444444 0.55555556\n",
      " 0.66666667 0.77777778 0.88888889 1.        ]\n"
     ]
    }
   ],
   "source": [
    "import numpy as np\n",
    "\n",
    "# Generate 10 numbers between 0 and 1\n",
    "array = np.linspace(0, 1, num=10)\n",
    "print(array)\n"
   ]
  },
  {
   "cell_type": "code",
   "execution_count": null,
   "id": "a0ec3fb4-6333-4969-8bd4-4480b5d15fff",
   "metadata": {},
   "outputs": [],
   "source": [
    " 23. Write a Python function using NumPy to create an array of 5 logarithmically spaced values between 1 and 1000\n",
    "\n"
   ]
  },
  {
   "cell_type": "code",
   "execution_count": 14,
   "id": "1c01a815-6645-4193-aa85-e4b5b1360568",
   "metadata": {},
   "outputs": [
    {
     "name": "stdout",
     "output_type": "stream",
     "text": [
      "[   1.            5.62341325   31.6227766   177.827941   1000.        ]\n"
     ]
    }
   ],
   "source": [
    "import numpy as np\n",
    "\n",
    "# Function to create logarithmically spaced values\n",
    "def log_spaced_array(start, stop, num_values):\n",
    "    return np.logspace(np.log10(start), np.log10(stop), num=num_values)\n",
    "\n",
    "# Create an array of 5 logarithmically spaced values between 1 and 1000\n",
    "log_array = log_spaced_array(1, 1000, 5)\n",
    "\n",
    "# Print the result\n",
    "print(log_array)\n"
   ]
  },
  {
   "cell_type": "code",
   "execution_count": null,
   "id": "fb439652-baa3-4007-89e2-5a3576900532",
   "metadata": {},
   "outputs": [],
   "source": [
    " 24. Create a Pandas DataFrame using a NumPy array that contains 5 rows and 3 columns, where the values are random integers between 1 and 100.\n",
    "\n"
   ]
  },
  {
   "cell_type": "code",
   "execution_count": 15,
   "id": "0b75ecf3-6ee0-4652-9e31-caffe1de6867",
   "metadata": {},
   "outputs": [
    {
     "name": "stdout",
     "output_type": "stream",
     "text": [
      "   Column1  Column2  Column3\n",
      "0       77       71       83\n",
      "1       50        2       87\n",
      "2       98       93        8\n",
      "3       57       88        8\n",
      "4       88       59       84\n"
     ]
    }
   ],
   "source": [
    "import numpy as np\n",
    "import pandas as pd\n",
    "\n",
    "# Step 1: Create a NumPy array with 5 rows and 3 columns, random integers between 1 and 100\n",
    "data = np.random.randint(1, 101, size=(5, 3))\n",
    "\n",
    "# Step 2: Create a Pandas DataFrame from the NumPy array\n",
    "df = pd.DataFrame(data, columns=['Column1', 'Column2', 'Column3'])\n",
    "\n",
    "# Step 3: Print the DataFrame\n",
    "print(df)\n"
   ]
  },
  {
   "cell_type": "code",
   "execution_count": 5,
   "id": "90ae463c-e451-4601-84b9-77178663d1a6",
   "metadata": {},
   "outputs": [
    {
     "name": "stdout",
     "output_type": "stream",
     "text": [
      "    random_numbers\n",
      "0               26\n",
      "1               20\n",
      "2                8\n",
      "3               15\n",
      "4               33\n",
      "5               34\n",
      "6               12\n",
      "7               33\n",
      "8               23\n",
      "9               19\n",
      "10              24\n"
     ]
    }
   ],
   "source": [
    "# importing pandas and numpy libraries\n",
    "import numpy as np\n",
    "import pandas as pd\n",
    "\n",
    "data = np.random.randint(5, 35, size=11)\n",
    "df = pd.DataFrame(data, columns=['random_numbers'])\n",
    "\n",
    "# displaying random integers in data frame\n",
    "print(df)\n"
   ]
  },
  {
   "cell_type": "code",
   "execution_count": null,
   "id": "15469488-935f-4dc0-b560-4d758faebe36",
   "metadata": {},
   "outputs": [],
   "source": [
    " 25. Write a function that takes a Pandas DataFrame and replaces all negative values in a specific column \n"
   ]
  },
  {
   "cell_type": "code",
   "execution_count": 16,
   "id": "c77460c7-493e-49ff-95a7-c1a442717599",
   "metadata": {},
   "outputs": [
    {
     "name": "stdout",
     "output_type": "stream",
     "text": [
      "    A  B  C\n",
      "0  10 -2  3\n",
      "1   0  7  2\n",
      "2   3 -6 -1\n",
      "3   0  4  4\n",
      "4   8  0 -3\n"
     ]
    }
   ],
   "source": [
    "import pandas as pd\n",
    "\n",
    "# Function to replace negative values in a specific column\n",
    "def replace_negative_values(df, column_name, replacement_value=0):\n",
    "    # Replace negative values in the specified column\n",
    "    df[column_name] = df[column_name].apply(lambda x: replacement_value if x < 0 else x)\n",
    "    return df\n",
    "\n",
    "# Example DataFrame\n",
    "data = {'A': [10, -5, 3, -1, 8],\n",
    "        'B': [-2, 7, -6, 4, 0],\n",
    "        'C': [3, 2, -1, 4, -3]}\n",
    "\n",
    "df = pd.DataFrame(data)\n",
    "\n",
    "# Replace negative values in column 'A' with 0\n",
    "modified_df = replace_negative_values(df, 'A', 0)\n",
    "\n",
    "# Print the modified DataFrame\n",
    "print(modified_df)\n"
   ]
  },
  {
   "cell_type": "code",
   "execution_count": null,
   "id": "70dbe3f1-addd-4ed4-b768-65de31c673af",
   "metadata": {},
   "outputs": [],
   "source": [
    " 26. Access the 3rd element from the given NumPy array.\n",
    " arr = np.array([10, 20, 30, 40, 50])\n"
   ]
  },
  {
   "cell_type": "code",
   "execution_count": 17,
   "id": "ed589202-fe4d-48f2-97fa-30b543aae168",
   "metadata": {},
   "outputs": [
    {
     "name": "stdout",
     "output_type": "stream",
     "text": [
      "40\n"
     ]
    }
   ],
   "source": [
    "import numpy as np\n",
    "\n",
    "# Create a 1D NumPy array with five elements\n",
    "arr = np.array([10, 20, 30, 40, 50])\n",
    "\n",
    "\n",
    "print(arr[3]) \n"
   ]
  },
  {
   "cell_type": "code",
   "execution_count": null,
   "id": "a05f519a-1607-4db9-b564-87efaff15a83",
   "metadata": {},
   "outputs": [],
   "source": [
    " 27. Retrieve the element at index (1, 2) from the 2D NumPy array.\n",
    " arr_2d = np.array([[1, 2, 3],\n",
    "                     [4, 5, 6],\n",
    "                      [7, 8, 9]])\n",
    "\n",
    "\n"
   ]
  },
  {
   "cell_type": "code",
   "execution_count": 1,
   "id": "d2be50cb-d19c-4ad2-a620-61f82fafb0c8",
   "metadata": {},
   "outputs": [
    {
     "name": "stdout",
     "output_type": "stream",
     "text": [
      "6\n"
     ]
    }
   ],
   "source": [
    "\n",
    "                    import numpy as np\n",
    "\n",
    "arr_2d = np.array([[1, 2, 3], [4, 5, 6], [7, 8, 9]])\n",
    "print(arr_2d[1, 2]) "
   ]
  },
  {
   "cell_type": "code",
   "execution_count": null,
   "id": "42eaae56-5223-4d8e-bfa4-e396d0848536",
   "metadata": {},
   "outputs": [],
   "source": [
    " 28. Using boolean indexing, extract elements greater than 5 from the given NumPy array.\n",
    " arr = np.array([3, 8, 2, 10, 5, 7])\n"
   ]
  },
  {
   "cell_type": "code",
   "execution_count": 2,
   "id": "5f50937d-6c44-491c-b654-e294903387d9",
   "metadata": {},
   "outputs": [
    {
     "name": "stdout",
     "output_type": "stream",
     "text": [
      "[ 8 10  7]\n"
     ]
    }
   ],
   "source": [
    "import numpy as np\n",
    "\n",
    "arr = np.array([3, 8, 2, 10, 5, 7])\n",
    "\n",
    "# Create a boolean mask for elements greater than 5\n",
    "mask = arr > 5\n",
    "\n",
    "# Use the mask to extract the elements\n",
    "result = arr[mask]\n",
    "\n",
    "print(result)"
   ]
  },
  {
   "cell_type": "code",
   "execution_count": null,
   "id": "daa6e192-ce72-4fae-a6e8-bc24828bf9a2",
   "metadata": {},
   "outputs": [],
   "source": [
    " 29. Perform basic slicing to extract elements from index 2 to 5 (inclusive) from the given NumPy array.\n",
    " arr = np.array([1, 2, 3, 4, 5, 6, 7, 8, 9])\n"
   ]
  },
  {
   "cell_type": "code",
   "execution_count": 3,
   "id": "e56f929a-5141-40a1-a9c9-34002378efc2",
   "metadata": {},
   "outputs": [
    {
     "name": "stdout",
     "output_type": "stream",
     "text": [
      "[3 4 5 6]\n"
     ]
    }
   ],
   "source": [
    " import numpy as np\n",
    "\n",
    "arr = np.array([1, 2, 3, 4, 5, 6, 7, 8, 9])\n",
    "\n",
    "# Extract elements from index 2 to 5 (inclusive)\n",
    "sliced_array = arr[2:6]\n",
    "\n",
    "print(sliced_array)"
   ]
  },
  {
   "cell_type": "code",
   "execution_count": null,
   "id": "75b4cb3e-de8d-4ea1-b3c5-9ca6b8c22885",
   "metadata": {},
   "outputs": [],
   "source": [
    "30. Slice the 2D NumPy array to extract the sub-array `[[2, 3], [5, 6]]` from the given array.\n",
    "arr_2d = np.array([[1, 2, 3],\n",
    " [4, 5, 6],\n",
    " [7, 8, 9]])\n"
   ]
  },
  {
   "cell_type": "code",
   "execution_count": 4,
   "id": "9df612c3-50d9-40b8-a83f-65d2ef539552",
   "metadata": {},
   "outputs": [
    {
     "name": "stdout",
     "output_type": "stream",
     "text": [
      "[[2 3]\n",
      " [5 6]]\n"
     ]
    }
   ],
   "source": [
    "import numpy as np\n",
    "\n",
    "arr_2d = np.array([[1, 2, 3],\n",
    "                    [4, 5, 6],\n",
    "                    [7, 8, 9]])\n",
    "\n",
    "sub_array = arr_2d[0:2, 1:3]\n",
    "print(sub_array)"
   ]
  },
  {
   "cell_type": "code",
   "execution_count": null,
   "id": "2f83daac-6f4c-4ec2-9906-7eba1c10bf90",
   "metadata": {},
   "outputs": [],
   "source": [
    "31.Write a NumPy function to extract elements in specific order from a given 2D array based on indices \n",
    "provided in another array.\n"
   ]
  },
  {
   "cell_type": "code",
   "execution_count": null,
   "id": "6722c95b-8fb7-4e47-bb85-41dfdbc1b5f8",
   "metadata": {},
   "outputs": [],
   "source": [
    " Create a NumPy function that filters elements greater than a threshold from a given 1D array using \n",
    "boolean indexing.\n",
    " "
   ]
  },
  {
   "cell_type": "code",
   "execution_count": 5,
   "id": "be13a631-51f9-43bf-bedd-e94756574569",
   "metadata": {},
   "outputs": [
    {
     "name": "stdout",
     "output_type": "stream",
     "text": [
      "[False, False, True, True]\n",
      "[43 44]\n"
     ]
    }
   ],
   "source": [
    "import numpy as np\n",
    "\n",
    "arr = np.array([41, 42, 43, 44])\n",
    "\n",
    "# Create an empty list\n",
    "filter_arr = []\n",
    "\n",
    "# go through each element in arr\n",
    "for element in arr:\n",
    "  # if the element is higher than 42, set the value to True, otherwise False:\n",
    "  if element > 42:\n",
    "    filter_arr.append(True)\n",
    "  else:\n",
    "    filter_arr.append(False)\n",
    "\n",
    "newarr = arr[filter_arr]\n",
    "\n",
    "print(filter_arr)\n",
    "print(newarr)"
   ]
  },
  {
   "cell_type": "code",
   "execution_count": null,
   "id": "1dad713a-6760-44ad-a561-30066b5db8e6",
   "metadata": {},
   "outputs": [],
   "source": [
    " Develop a NumPy function that extracts specific elements from a 3D array using indices provided in three \n",
    "separate arrays for each dimension"
   ]
  },
  {
   "cell_type": "code",
   "execution_count": 17,
   "id": "cdd326ff-5471-48c9-8a24-4f3167e52f7f",
   "metadata": {},
   "outputs": [
    {
     "name": "stdout",
     "output_type": "stream",
     "text": [
      "Extracted elements: [ 3 14 25]\n"
     ]
    }
   ],
   "source": [
    "import numpy as np\n",
    "\n",
    "# Function to extract elements using indices from three separate arrays\n",
    "def extract_elements_from_3d_array(arr, x_indices, y_indices, z_indices):\n",
    "    # Use advanced indexing to extract elements based on the indices\n",
    "    return arr[x_indices, y_indices, z_indices]\n",
    "\n",
    "# Example 3D array (shape: 3x3x3)\n",
    "arr = np.array([[[1, 2, 3], [4, 5, 6], [7, 8, 9]],\n",
    "                [[10, 11, 12], [13, 14, 15], [16, 17, 18]],\n",
    "                [[19, 20, 21], [22, 23, 24], [25, 26, 27]]])\n",
    "\n",
    "# Indices for each dimension\n",
    "x_indices = np.array([0, 1, 2])\n",
    "y_indices = np.array([0, 1, 2])\n",
    "z_indices = np.array([2, 1, 0])\n",
    "\n",
    "# Extract elements using the function\n",
    "extracted_elements = extract_elements_from_3d_array(arr, x_indices, y_indices, z_indices)\n",
    "\n",
    "# Print the extracted elements\n",
    "print(\"Extracted elements:\", extracted_elements)\n"
   ]
  },
  {
   "cell_type": "code",
   "execution_count": null,
   "id": "843e0958-3633-4220-8c3f-61abb72a8880",
   "metadata": {},
   "outputs": [],
   "source": [
    " 34 Write a NumPy function that returns elements from an array where both two conditions are satisfied \n",
    "using boolean indexing"
   ]
  },
  {
   "cell_type": "code",
   "execution_count": 7,
   "id": "df607cf9-edc7-49d4-85f1-5eea50eecaab",
   "metadata": {},
   "outputs": [
    {
     "name": "stdout",
     "output_type": "stream",
     "text": [
      "[False, True, False, True, False, True, False]\n",
      "[2 4 6]\n"
     ]
    }
   ],
   "source": [
    "arr = np.array([1, 2, 3, 4, 5, 6, 7])\n",
    "\n",
    "# Create an empty list\n",
    "filter_arr = []\n",
    "\n",
    "# go through each element in arr\n",
    "for element in arr:\n",
    "  # if the element is completely divisble by 2, set the value to True, otherwise False\n",
    "  if element % 2 == 0:\n",
    "    filter_arr.append(True)\n",
    "  else:\n",
    "    filter_arr.append(False)\n",
    "\n",
    "newarr = arr[filter_arr]\n",
    "\n",
    "print(filter_arr)\n",
    "print(newarr)\n"
   ]
  },
  {
   "cell_type": "code",
   "execution_count": null,
   "id": "03f939ce-1ee5-42f7-a637-d2a3e808b600",
   "metadata": {},
   "outputs": [],
   "source": [
    "35.create a NumPy function that extracts elements from a 2D array using row and column indices provided \n",
    "in separate arrays"
   ]
  },
  {
   "cell_type": "code",
   "execution_count": 18,
   "id": "fd65b3a9-cbaa-42c2-a2d5-ea1be9462554",
   "metadata": {},
   "outputs": [
    {
     "name": "stdout",
     "output_type": "stream",
     "text": [
      "Extracted elements: [ 2 12 13]\n"
     ]
    }
   ],
   "source": [
    "import numpy as np\n",
    "\n",
    "# Function to extract elements from a 2D array using row and column indices\n",
    "def extract_elements_from_2d_array(arr, row_indices, col_indices):\n",
    "    # Use advanced indexing to extract elements\n",
    "    return arr[row_indices, col_indices]\n",
    "\n",
    "# Example 2D array (shape: 4x4)\n",
    "arr = np.array([[1, 2, 3, 4],\n",
    "                [5, 6, 7, 8],\n",
    "                [9, 10, 11, 12],\n",
    "                [13, 14, 15, 16]])\n",
    "\n",
    "# Row and column indices\n",
    "row_indices = np.array([0, 2, 3])\n",
    "col_indices = np.array([1, 3, 0])\n",
    "\n",
    "# Extract elements using the function\n",
    "extracted_elements = extract_elements_from_2d_array(arr, row_indices, col_indices)\n",
    "\n",
    "# Print the extracted elements\n",
    "print(\"Extracted elements:\", extracted_elements)\n"
   ]
  },
  {
   "cell_type": "code",
   "execution_count": null,
   "id": "01277666-107f-4afd-9bfc-ac87689a6dcb",
   "metadata": {},
   "outputs": [],
   "source": [
    " 36. Given an array arr of shape (3, 3), add a scalar value of 5 to each element using NumPy broadcasting.\n"
   ]
  },
  {
   "cell_type": "code",
   "execution_count": 8,
   "id": "f8fd26e4-2968-4f78-9956-0f5bd1a9f636",
   "metadata": {},
   "outputs": [
    {
     "name": "stdout",
     "output_type": "stream",
     "text": [
      "[[11 12 13]\n",
      " [14 15 16]]\n"
     ]
    }
   ],
   "source": [
    "import numpy as np\n",
    "\n",
    "array_2d = np.array([[1, 2, 3], [4, 5, 6]])  # 2D array\n",
    "scalar = 10  # Scalar value\n",
    "\n",
    "result = array_2d + scalar\n",
    "print(result)\n"
   ]
  },
  {
   "cell_type": "code",
   "execution_count": null,
   "id": "4d38e84d-76f3-4276-b9f4-5a8e5d48a313",
   "metadata": {},
   "outputs": [],
   "source": [
    " 37. Consider two arrays arr1 of shape (1, 3) and arr2 of shape (3, 4). Multiply each row of arr2 by the \n",
    "corresponding element in arr1 using NumPy broadcasting"
   ]
  },
  {
   "cell_type": "code",
   "execution_count": 9,
   "id": "c05c9bdb-e424-4539-a8e7-1caf7e18ab5b",
   "metadata": {},
   "outputs": [
    {
     "name": "stdout",
     "output_type": "stream",
     "text": [
      "[[10 40]\n",
      " [30 80]]\n"
     ]
    }
   ],
   "source": [
    "import numpy as np\n",
    "matrix = np.array([[1, 2], [3, 4]])\n",
    "vector = np.array([10, 20])\n",
    "result = matrix * vector\n",
    "print(result)\n"
   ]
  },
  {
   "cell_type": "code",
   "execution_count": null,
   "id": "fa2bca35-58b9-4043-999b-170526cc1b0f",
   "metadata": {},
   "outputs": [],
   "source": [
    " 38. Given a 1D array arr1 of shape (1, 4) and a 2D array arr2 of shape (4, 3), add arr1 to each row of arr2 using NumPy broadcasting.\n",
    "\n"
   ]
  },
  {
   "cell_type": "code",
   "execution_count": 1,
   "id": "90f52789-d896-4cff-a2d4-f23ab0fab68f",
   "metadata": {},
   "outputs": [
    {
     "ename": "ValueError",
     "evalue": "operands could not be broadcast together with shapes (1,4) (4,3) ",
     "output_type": "error",
     "traceback": [
      "\u001b[1;31m---------------------------------------------------------------------------\u001b[0m",
      "\u001b[1;31mValueError\u001b[0m                                Traceback (most recent call last)",
      "Cell \u001b[1;32mIn[1], line 8\u001b[0m\n\u001b[0;32m      5\u001b[0m arr2 \u001b[38;5;241m=\u001b[39m np\u001b[38;5;241m.\u001b[39marray([[\u001b[38;5;241m5\u001b[39m, \u001b[38;5;241m6\u001b[39m, \u001b[38;5;241m7\u001b[39m], [\u001b[38;5;241m8\u001b[39m, \u001b[38;5;241m9\u001b[39m, \u001b[38;5;241m10\u001b[39m], [\u001b[38;5;241m11\u001b[39m, \u001b[38;5;241m12\u001b[39m, \u001b[38;5;241m13\u001b[39m], [\u001b[38;5;241m14\u001b[39m, \u001b[38;5;241m15\u001b[39m, \u001b[38;5;241m16\u001b[39m]])  \u001b[38;5;66;03m# Shape: (4, 3)\u001b[39;00m\n\u001b[0;32m      7\u001b[0m \u001b[38;5;66;03m# Add arr1 to each row of arr2 using broadcasting\u001b[39;00m\n\u001b[1;32m----> 8\u001b[0m result \u001b[38;5;241m=\u001b[39m \u001b[43marr1\u001b[49m\u001b[43m \u001b[49m\u001b[38;5;241;43m+\u001b[39;49m\u001b[43m \u001b[49m\u001b[43marr2\u001b[49m\n\u001b[0;32m     10\u001b[0m \u001b[38;5;66;03m# Print the result\u001b[39;00m\n\u001b[0;32m     11\u001b[0m \u001b[38;5;28mprint\u001b[39m(result)\n",
      "\u001b[1;31mValueError\u001b[0m: operands could not be broadcast together with shapes (1,4) (4,3) "
     ]
    }
   ],
   "source": [
    "import numpy as np\n",
    "\n",
    "# Example arrays\n",
    "arr1 = np.array([[1, 2, 3, 4]])  # Shape: (1, 4)\n",
    "arr2 = np.array([[5, 6, 7], [8, 9, 10], [11, 12, 13], [14, 15, 16]])  # Shape: (4, 3)\n",
    "\n",
    "# Add arr1 to each row of arr2 using broadcasting\n",
    "result = arr1 + arr2\n",
    "\n",
    "# Print the result\n",
    "print(result)"
   ]
  },
  {
   "cell_type": "code",
   "execution_count": null,
   "id": "21ae9fa6-b5f6-415e-9c40-1d7e4b6eb0c5",
   "metadata": {},
   "outputs": [],
   "source": [
    " 39. Consider two arrays arr1 of shape (3, 1) and arr2 of shape (1, 3). Add these arrays using NumPy broadcasting.\n",
    "\n"
   ]
  },
  {
   "cell_type": "code",
   "execution_count": 2,
   "id": "397e434c-2f03-468b-906c-6702a3ef2061",
   "metadata": {},
   "outputs": [
    {
     "name": "stdout",
     "output_type": "stream",
     "text": [
      "[[5 6 7]\n",
      " [6 7 8]\n",
      " [7 8 9]]\n"
     ]
    }
   ],
   "source": [
    "import numpy as np\n",
    "\n",
    "# Create the arrays\n",
    "arr1 = np.array([[1], [2], [3]])  # Shape (3, 1)\n",
    "arr2 = np.array([4, 5, 6])  # Shape (1, 3) or np.array([[4, 5, 6]])\n",
    "\n",
    "# Add the arrays using broadcasting\n",
    "result = arr1 + arr2\n",
    "\n",
    "# Print the result\n",
    "print(result)"
   ]
  },
  {
   "cell_type": "code",
   "execution_count": null,
   "id": "4abdeefe-c192-45e1-bbef-aa801a46db4d",
   "metadata": {},
   "outputs": [],
   "source": [
    "40. given arrays arr1 of shape (2, 3) and arr2 of shape (2, 2), perform multiplication using NumPy \n",
    "broadcasting. Handle the shape incompatibility"
   ]
  },
  {
   "cell_type": "code",
   "execution_count": 19,
   "id": "cb114112-4763-4232-ae6d-4a5e8dafddcf",
   "metadata": {},
   "outputs": [
    {
     "ename": "ValueError",
     "evalue": "operands could not be broadcast together with shapes (2,3) (2,2) ",
     "output_type": "error",
     "traceback": [
      "\u001b[1;31m---------------------------------------------------------------------------\u001b[0m",
      "\u001b[1;31mValueError\u001b[0m                                Traceback (most recent call last)",
      "Cell \u001b[1;32mIn[19], line 14\u001b[0m\n\u001b[0;32m     11\u001b[0m arr2_reshaped \u001b[38;5;241m=\u001b[39m arr2[:, :\u001b[38;5;241m3\u001b[39m]  \u001b[38;5;66;03m# Take the first 3 columns (if possible)\u001b[39;00m\n\u001b[0;32m     13\u001b[0m \u001b[38;5;66;03m# Step 2: Perform element-wise multiplication\u001b[39;00m\n\u001b[1;32m---> 14\u001b[0m result \u001b[38;5;241m=\u001b[39m \u001b[43marr1\u001b[49m\u001b[43m \u001b[49m\u001b[38;5;241;43m*\u001b[39;49m\u001b[43m \u001b[49m\u001b[43marr2_reshaped\u001b[49m\n\u001b[0;32m     16\u001b[0m \u001b[38;5;66;03m# Print results\u001b[39;00m\n\u001b[0;32m     17\u001b[0m \u001b[38;5;28mprint\u001b[39m(\u001b[38;5;124m\"\u001b[39m\u001b[38;5;124marr1:\u001b[39m\u001b[38;5;130;01m\\n\u001b[39;00m\u001b[38;5;124m\"\u001b[39m, arr1)\n",
      "\u001b[1;31mValueError\u001b[0m: operands could not be broadcast together with shapes (2,3) (2,2) "
     ]
    }
   ],
   "source": [
    "import numpy as np\n",
    "\n",
    "# Example arrays\n",
    "arr1 = np.array([[1, 2, 3],\n",
    "                 [4, 5, 6]])\n",
    "\n",
    "arr2 = np.array([[7, 8],\n",
    "                 [9, 10]])\n",
    "\n",
    "# Step 1: Reshape arr2 to (2, 3) to match the shape of arr1 (broadcasting it)\n",
    "arr2_reshaped = arr2[:, :3]  # Take the first 3 columns (if possible)\n",
    "\n",
    "# Step 2: Perform element-wise multiplication\n",
    "result = arr1 * arr2_reshaped\n",
    "\n",
    "# Print results\n",
    "print(\"arr1:\\n\", arr1)\n",
    "print(\"arr2 reshaped:\\n\", arr2_reshaped)\n",
    "print(\"Multiplication result:\\n\", result)\n"
   ]
  },
  {
   "cell_type": "code",
   "execution_count": null,
   "id": "43b33353-06e7-4967-b2e4-cd2e4a759539",
   "metadata": {},
   "outputs": [],
   "source": [
    " 41. Calculate column-wise mean for the given array:\n",
    " arr = np.array([[1, 2, 3], [4, 5, 6]])"
   ]
  },
  {
   "cell_type": "code",
   "execution_count": 3,
   "id": "fb009e94-41e6-4cda-867a-776509cb52b3",
   "metadata": {},
   "outputs": [
    {
     "name": "stdout",
     "output_type": "stream",
     "text": [
      "[2.5 3.5 4.5]\n"
     ]
    }
   ],
   "source": [
    "import numpy as np\n",
    "\n",
    "# Given array\n",
    "arr = np.array([[1, 2, 3], [4, 5, 6]])\n",
    "\n",
    "# Column-wise mean\n",
    "column_mean = np.mean(arr, axis=0)\n",
    "print(column_mean)\n"
   ]
  },
  {
   "cell_type": "code",
   "execution_count": null,
   "id": "eb797508-4967-41d6-9abc-178fc5cd8ca5",
   "metadata": {},
   "outputs": [],
   "source": [
    "Find maximum value in each row of the given array:\n",
    " arr = np.array([[1, 2, 3], [4, 5, 6]])"
   ]
  },
  {
   "cell_type": "code",
   "execution_count": 4,
   "id": "8ef5170f-b83a-498c-b1cd-35e3cb68aab7",
   "metadata": {},
   "outputs": [
    {
     "name": "stdout",
     "output_type": "stream",
     "text": [
      "[3 6]\n"
     ]
    }
   ],
   "source": [
    "import numpy as np\n",
    "\n",
    "# Given array\n",
    "arr = np.array([[1, 2, 3], [4, 5, 6]])\n",
    "\n",
    "# Maximum value in each row\n",
    "row_max = np.max(arr, axis=1)\n",
    "print(row_max)\n"
   ]
  },
  {
   "cell_type": "code",
   "execution_count": null,
   "id": "07b3f285-8e8a-4606-adf9-782240dde72a",
   "metadata": {},
   "outputs": [],
   "source": [
    "43.For the given array, find indices of maximum value in each column.\n",
    " arr = np.array([[1, 2, 3], [4, 5, 6]])\n",
    " "
   ]
  },
  {
   "cell_type": "code",
   "execution_count": 5,
   "id": "6b1985a5-64ac-45ef-9f3a-56582f95b214",
   "metadata": {},
   "outputs": [
    {
     "name": "stdout",
     "output_type": "stream",
     "text": [
      "[1 1 1]\n"
     ]
    }
   ],
   "source": [
    "import numpy as np\n",
    "\n",
    "# Given array\n",
    "arr = np.array([[1, 2, 3], [4, 5, 6]])\n",
    "\n",
    "# Find indices of maximum values in each column\n",
    "max_indices = np.argmax(arr, axis=0)\n",
    "print(max_indices)\n"
   ]
  },
  {
   "cell_type": "code",
   "execution_count": null,
   "id": "58290d35-82c1-499b-982c-007ee4441da3",
   "metadata": {},
   "outputs": [],
   "source": [
    "44.for the given array, apply custom function to calculate moving sum along rows.\n",
    " arr = np.array([[1, 2, 3], [4, 5, 6]])\n",
    " "
   ]
  },
  {
   "cell_type": "code",
   "execution_count": 6,
   "id": "2c05711b-d4f8-48a1-8dbe-ef80d00bd181",
   "metadata": {},
   "outputs": [
    {
     "name": "stdout",
     "output_type": "stream",
     "text": [
      "[[ 3  5]\n",
      " [ 9 11]]\n"
     ]
    }
   ],
   "source": [
    "import numpy as np\n",
    "\n",
    "# Given array\n",
    "arr = np.array([[1, 2, 3], [4, 5, 6]])\n",
    "\n",
    "# Custom function to calculate moving sum along rows\n",
    "def moving_sum(row, window_size):\n",
    "    return np.array([np.sum(row[i:i+window_size]) for i in range(len(row) - window_size + 1)])\n",
    "\n",
    "# Apply the function to each row with a window size of 2\n",
    "window_size = 2\n",
    "moving_sums = np.apply_along_axis(moving_sum, axis=1, arr=arr, window_size=window_size)\n",
    "\n",
    "print(moving_sums)\n"
   ]
  },
  {
   "cell_type": "code",
   "execution_count": null,
   "id": "ca142ed8-fa72-483c-989c-403f1cc19947",
   "metadata": {},
   "outputs": [],
   "source": [
    "45. In the given array, check if all elements in each column are even\n",
    " arr = np.array([[2, 4, 6], [3, 5, 7]])"
   ]
  },
  {
   "cell_type": "code",
   "execution_count": 7,
   "id": "bdc77700-a965-44cd-977a-8a7df4fb978f",
   "metadata": {},
   "outputs": [
    {
     "name": "stdout",
     "output_type": "stream",
     "text": [
      "[False False False]\n"
     ]
    }
   ],
   "source": [
    "import numpy as np\n",
    "\n",
    "# Given array\n",
    "arr = np.array([[2, 4, 6], [3, 5, 7]])\n",
    "\n",
    "# Check if all elements in each column are even\n",
    "even_check = np.all(arr % 2 == 0, axis=0)\n",
    "\n",
    "print(even_check)\n"
   ]
  },
  {
   "cell_type": "code",
   "execution_count": null,
   "id": "76879a40-584b-4b20-a8b7-904421759d0e",
   "metadata": {},
   "outputs": [],
   "source": [
    "46.given a NumPy array arr, reshape it into a matrix of dimensions `m` rows and `n` columns.  Return the \n",
    "reshaped matrix.\n",
    " original_array = np.array([1, 2, 3, 4, 5, 6])\n",
    " "
   ]
  },
  {
   "cell_type": "code",
   "execution_count": 1,
   "id": "3280115c-5d38-420e-b067-efbd340ce114",
   "metadata": {},
   "outputs": [
    {
     "name": "stdout",
     "output_type": "stream",
     "text": [
      "[[1 2 3]\n",
      " [4 5 6]]\n"
     ]
    }
   ],
   "source": [
    "import numpy as np\n",
    "\n",
    "original_array = np.array([1, 2, 3, 4, 5, 6])\n",
    "m, n = 2, 3  # example dimensions (2 rows, 3 columns)\n",
    "\n",
    "if original_array.size != m * n:\n",
    "    raise ValueError(\"The total size of the new matrix must match the original array.\")\n",
    "\n",
    "reshaped_matrix = original_array.reshape((m, n))\n",
    "print(reshaped_matrix)\n"
   ]
  },
  {
   "cell_type": "code",
   "execution_count": null,
   "id": "c89b5688-b6a0-4be3-b46c-978e28acc823",
   "metadata": {},
   "outputs": [],
   "source": [
    "47.create a function that takes a matrix as input and returns the flattened array.\n",
    " input_matrix = np.array([[1, 2, 3], [4, 5, 6]])"
   ]
  },
  {
   "cell_type": "code",
   "execution_count": 2,
   "id": "b457c0f8-be06-4e05-9d33-99f907f23003",
   "metadata": {},
   "outputs": [
    {
     "name": "stdout",
     "output_type": "stream",
     "text": [
      "[1 2 3 4 5 6]\n"
     ]
    }
   ],
   "source": [
    "import numpy as np\n",
    "\n",
    "def flatten_matrix(matrix):\n",
    "    return matrix.flatten()\n",
    "\n",
    "# Example usage:\n",
    "input_matrix = np.array([[1, 2, 3], [4, 5, 6]])\n",
    "flattened_array = flatten_matrix(input_matrix)\n",
    "print(flattened_array)\n"
   ]
  },
  {
   "cell_type": "code",
   "execution_count": null,
   "id": "be5a06dd-37fb-4bab-90d9-0cc7c33187c8",
   "metadata": {},
   "outputs": [],
   "source": [
    "48.Write a function that concatenates two given arrays along a specified axis.\n",
    " array1 = np.array([[1, 2], [3, 4]])\n",
    " array2 = np.array([[5, 6], [7, 8]])\n",
    " "
   ]
  },
  {
   "cell_type": "code",
   "execution_count": 3,
   "id": "f2d7cd54-763f-47d6-a678-590566251fc7",
   "metadata": {},
   "outputs": [
    {
     "name": "stdout",
     "output_type": "stream",
     "text": [
      "Concatenated along axis 0:\n",
      " [[1 2]\n",
      " [3 4]\n",
      " [5 6]\n",
      " [7 8]]\n",
      "Concatenated along axis 1:\n",
      " [[1 2 5 6]\n",
      " [3 4 7 8]]\n"
     ]
    }
   ],
   "source": [
    "import numpy as np\n",
    "\n",
    "def concatenate_arrays(arr1, arr2, axis):\n",
    "    return np.concatenate((arr1, arr2), axis=axis)\n",
    "\n",
    "# Example usage:\n",
    "array1 = np.array([[1, 2], [3, 4]])\n",
    "array2 = np.array([[5, 6], [7, 8]])\n",
    "\n",
    "# Concatenate along axis 0 (rows)\n",
    "concat_axis0 = concatenate_arrays(array1, array2, axis=0)\n",
    "print(\"Concatenated along axis 0:\\n\", concat_axis0)\n",
    "\n",
    "# Concatenate along axis 1 (columns)\n",
    "concat_axis1 = concatenate_arrays(array1, array2, axis=1)\n",
    "print(\"Concatenated along axis 1:\\n\", concat_axis1)\n"
   ]
  },
  {
   "cell_type": "code",
   "execution_count": null,
   "id": "e918319a-977b-4511-a60a-8d9933eff648",
   "metadata": {},
   "outputs": [],
   "source": [
    "Create a function that splits an array into multiple sub-arrays along a specified axis.\n",
    " original_array = np.array([[1, 2, 3], [4, 5, 6], [7, 8, 9]])"
   ]
  },
  {
   "cell_type": "code",
   "execution_count": 4,
   "id": "4d5dc341-4a5a-4b47-89d5-a5593b0cfceb",
   "metadata": {},
   "outputs": [
    {
     "name": "stdout",
     "output_type": "stream",
     "text": [
      "Split along axis 0:\n",
      "[[1 2 3]]\n",
      "[[4 5 6]]\n",
      "[[7 8 9]]\n",
      "\n",
      "Split along axis 1:\n",
      "[[1]\n",
      " [4]\n",
      " [7]]\n",
      "[[2]\n",
      " [5]\n",
      " [8]]\n",
      "[[3]\n",
      " [6]\n",
      " [9]]\n"
     ]
    }
   ],
   "source": [
    "import numpy as np\n",
    "\n",
    "def split_array(array, indices_or_sections, axis=0):\n",
    "    \n",
    "    \n",
    "    return np.split(array, indices_or_sections, axis=axis)\n",
    "\n",
    "# Example usage:\n",
    "original_array = np.array([[1, 2, 3], [4, 5, 6], [7, 8, 9]])\n",
    "\n",
    "# Split into 3 equal parts along axis 0 (rows)\n",
    "split_rows = split_array(original_array, 3, axis=0)\n",
    "print(\"Split along axis 0:\")\n",
    "for sub_array in split_rows:\n",
    "    print(sub_array)\n",
    "\n",
    "# Split into 3 equal parts along axis 1 (columns)\n",
    "split_cols = split_array(original_array, 3, axis=1)\n",
    "print(\"\\nSplit along axis 1:\")\n",
    "for sub_array in split_cols:\n",
    "    print(sub_array)\n"
   ]
  },
  {
   "cell_type": "code",
   "execution_count": null,
   "id": "eed781b7-4824-4641-8e87-bfbd929c2429",
   "metadata": {},
   "outputs": [],
   "source": [
    "Write a function that inserts and then deletes elements from a given array at specified indices.\n",
    " original_array = np.array([1, 2, 3, 4, 5])\n",
    " indices_to_insert = [2, 4]\n",
    " values_to_insert = [10, 11]\n",
    " indices_to_delete = [1, 3]\n"
   ]
  },
  {
   "cell_type": "code",
   "execution_count": 5,
   "id": "f6d843a6-5bcf-4a7c-b446-2ae1ff86b316",
   "metadata": {},
   "outputs": [
    {
     "name": "stdout",
     "output_type": "stream",
     "text": [
      "Resulting array: [ 1 10  4 11  5]\n"
     ]
    }
   ],
   "source": [
    "import numpy as np\n",
    "\n",
    "def insert_and_delete(array, insert_indices, insert_values, delete_indices):\n",
    "    # Insert values at the specified indices\n",
    "    modified_array = np.insert(array, insert_indices, insert_values)\n",
    "    \n",
    "    # Delete elements at the specified indices (adjusted if needed)\n",
    "    modified_array = np.delete(modified_array, delete_indices)\n",
    "    \n",
    "    return modified_array\n",
    "\n",
    "# Example usage:\n",
    "original_array = np.array([1, 2, 3, 4, 5])\n",
    "indices_to_insert = [2, 4]\n",
    "values_to_insert = [10, 11]\n",
    "indices_to_delete = [1, 3]\n",
    "\n",
    "result = insert_and_delete(original_array, indices_to_insert, values_to_insert, indices_to_delete)\n",
    "print(\"Resulting array:\", result)\n"
   ]
  },
  {
   "cell_type": "code",
   "execution_count": null,
   "id": "f093f5e1-3999-401b-bf86-a527c8e3e702",
   "metadata": {},
   "outputs": [],
   "source": [
    " 51. Create a NumPy array `arr1` with random integers and another array `arr2` with integers from 1 to 10. \n",
    "Perform element-wise addition between `arr1` and `arr2`."
   ]
  },
  {
   "cell_type": "code",
   "execution_count": 1,
   "id": "274db125-f00d-4092-b72e-85ccfac1f992",
   "metadata": {},
   "outputs": [
    {
     "name": "stdout",
     "output_type": "stream",
     "text": [
      "arr1: [ 1  1 10  1  6  0  8  9  6  5]\n",
      "arr2: [ 1  2  3  4  5  6  7  8  9 10]\n",
      "Element-wise addition result: [ 2  3 13  5 11  6 15 17 15 15]\n"
     ]
    }
   ],
   "source": [
    "import numpy as np\n",
    "\n",
    "# Create arr1 with random integers between 0 and 10 (size 10)\n",
    "arr1 = np.random.randint(0, 11, size=10)\n",
    "\n",
    "# Create arr2 with integers from 1 to 10\n",
    "arr2 = np.arange(1, 11)\n",
    "\n",
    "# Perform element-wise addition\n",
    "result = arr1 + arr2\n",
    "\n",
    "# Display the arrays and result\n",
    "print(\"arr1:\", arr1)\n",
    "print(\"arr2:\", arr2)\n",
    "print(\"Element-wise addition result:\", result)\n"
   ]
  },
  {
   "cell_type": "code",
   "execution_count": null,
   "id": "222741cc-f307-4723-8492-d4c965c72fd9",
   "metadata": {},
   "outputs": [],
   "source": [
    "52. Generate a NumPy array `arr1` with sequential integers from 10 to 1 and another array `arr2` with integers \n",
    "from 1 to 10. Subtract `arr2` from `arr1` element-wise"
   ]
  },
  {
   "cell_type": "code",
   "execution_count": 2,
   "id": "81ea5789-151c-407a-871d-d3f20f64171d",
   "metadata": {},
   "outputs": [
    {
     "name": "stdout",
     "output_type": "stream",
     "text": [
      "arr1: [10  9  8  7  6  5  4  3  2  1]\n",
      "arr2: [ 1  2  3  4  5  6  7  8  9 10]\n",
      "Element-wise subtraction result: [ 9  7  5  3  1 -1 -3 -5 -7 -9]\n"
     ]
    }
   ],
   "source": [
    "import numpy as np\n",
    "\n",
    "# Create arr1 with integers from 10 to 1 (descending)\n",
    "arr1 = np.arange(10, 0, -1)\n",
    "\n",
    "# Create arr2 with integers from 1 to 10 (ascending)\n",
    "arr2 = np.arange(1, 11)\n",
    "\n",
    "# Perform element-wise subtraction: arr1 - arr2\n",
    "result = arr1 - arr2\n",
    "\n",
    "# Display the arrays and result\n",
    "print(\"arr1:\", arr1)\n",
    "print(\"arr2:\", arr2)\n",
    "print(\"Element-wise subtraction result:\", result)\n"
   ]
  },
  {
   "cell_type": "code",
   "execution_count": null,
   "id": "4cbaf762-f1bf-467e-a182-cf53944e65a8",
   "metadata": {},
   "outputs": [],
   "source": [
    " 53. Create a NumPy array `arr1` with random integers and another array `arr2` with integers from 1 to 5. \n",
    "Perform element-wise multiplication between `arr1` and `arr2`."
   ]
  },
  {
   "cell_type": "code",
   "execution_count": 3,
   "id": "7394a9b7-f308-47bc-81d7-57dfc2e07e60",
   "metadata": {},
   "outputs": [
    {
     "name": "stdout",
     "output_type": "stream",
     "text": [
      "arr1: [9 4 5 7 7]\n",
      "arr2: [1 2 3 4 5]\n",
      "Element-wise multiplication result: [ 9  8 15 28 35]\n"
     ]
    }
   ],
   "source": [
    "import numpy as np\n",
    "\n",
    "# Create arr1 with random integers between 0 and 10, size 5\n",
    "arr1 = np.random.randint(0, 11, size=5)\n",
    "\n",
    "# Create arr2 with integers from 1 to 5\n",
    "arr2 = np.arange(1, 6)\n",
    "\n",
    "# Perform element-wise multiplication\n",
    "result = arr1 * arr2\n",
    "\n",
    "# Display the arrays and result\n",
    "print(\"arr1:\", arr1)\n",
    "print(\"arr2:\", arr2)\n",
    "print(\"Element-wise multiplication result:\", result)\n"
   ]
  },
  {
   "cell_type": "code",
   "execution_count": null,
   "id": "3314410d-f591-4e95-a76e-30fc3fab3773",
   "metadata": {},
   "outputs": [],
   "source": [
    " 54. Generate a NumPy array `arr1` with even integers from 2 to 10 and another array `arr2` with integers from 1 \n",
    "to 5. Perform element-wise division of `arr1` by `arr2`"
   ]
  },
  {
   "cell_type": "code",
   "execution_count": 4,
   "id": "4564c5dc-e5f5-4863-8533-c39599a12bee",
   "metadata": {},
   "outputs": [
    {
     "name": "stdout",
     "output_type": "stream",
     "text": [
      "arr1: [ 2  4  6  8 10]\n",
      "arr2: [1 2 3 4 5]\n",
      "Element-wise division result: [2. 2. 2. 2. 2.]\n"
     ]
    }
   ],
   "source": [
    "import numpy as np\n",
    "\n",
    "# Create arr1 with even integers from 2 to 10\n",
    "arr1 = np.arange(2, 11, 2)\n",
    "\n",
    "# Create arr2 with integers from 1 to 5\n",
    "arr2 = np.arange(1, 6)\n",
    "\n",
    "# Perform element-wise division\n",
    "result = arr1 / arr2\n",
    "\n",
    "# Display the arrays and result\n",
    "print(\"arr1:\", arr1)\n",
    "print(\"arr2:\", arr2)\n",
    "print(\"Element-wise division result:\", result)\n"
   ]
  },
  {
   "cell_type": "code",
   "execution_count": null,
   "id": "cf16f663-8a26-425c-bbe0-24ad2c1bbd80",
   "metadata": {},
   "outputs": [],
   "source": [
    "55. Create a NumPy array `arr1` with integers from 1 to 5 and another array `arr2` with the same numbers \n",
    "reversed. Calculate the exponentiation of `arr1` raised to the power of `arr2` element-wise."
   ]
  },
  {
   "cell_type": "code",
   "execution_count": 5,
   "id": "6eeb1776-b869-47ad-a61d-9b9c4a54576d",
   "metadata": {},
   "outputs": [
    {
     "name": "stdout",
     "output_type": "stream",
     "text": [
      "arr1: [1 2 3 4 5]\n",
      "arr2: [5 4 3 2 1]\n",
      "Element-wise exponentiation result: [ 1 16 27 16  5]\n"
     ]
    }
   ],
   "source": [
    "import numpy as np\n",
    "\n",
    "# Create arr1 with integers from 1 to 5\n",
    "arr1 = np.arange(1, 6)\n",
    "\n",
    "# Create arr2 with the same numbers reversed\n",
    "arr2 = arr1[::-1]\n",
    "\n",
    "# Perform element-wise exponentiation\n",
    "result = arr1 ** arr2\n",
    "\n",
    "# Display the arrays and result\n",
    "print(\"arr1:\", arr1)\n",
    "print(\"arr2:\", arr2)\n",
    "print(\"Element-wise exponentiation result:\", result)\n"
   ]
  },
  {
   "cell_type": "code",
   "execution_count": null,
   "id": "9795610e-cfee-4b37-8bd1-9fb19f470131",
   "metadata": {},
   "outputs": [],
   "source": [
    " 56. Write a function that counts the occurrences of a specific substring within a NumPy array of strings.\n",
    " arr = np.array(['hello', 'world', 'hello', 'numpy', 'hello'])"
   ]
  },
  {
   "cell_type": "code",
   "execution_count": 6,
   "id": "0288fc1b-ce5f-4b74-ac15-4e560535aa09",
   "metadata": {},
   "outputs": [
    {
     "name": "stdout",
     "output_type": "stream",
     "text": [
      "The substring 'lo' appears 3 times.\n"
     ]
    }
   ],
   "source": [
    "import numpy as np\n",
    "\n",
    "def count_substring(arr, substring):\n",
    "    # Use list comprehension with str.count to count occurrences in each string\n",
    "    return sum([s.count(substring) for s in arr])\n",
    "\n",
    "# Sample array\n",
    "arr = np.array(['hello', 'world', 'hello', 'numpy', 'hello'])\n",
    "\n",
    "# Example usage\n",
    "substring = 'lo'\n",
    "count = count_substring(arr, substring)\n",
    "\n",
    "print(f\"The substring '{substring}' appears {count} times.\")\n"
   ]
  },
  {
   "cell_type": "code",
   "execution_count": null,
   "id": "5920731d-b2a5-4fe6-9d23-1056562f103d",
   "metadata": {},
   "outputs": [],
   "source": [
    " 57. Write a function that extracts uppercase characters from a NumPy array of strings.\n",
    " arr = np.array(['Hello', 'World', 'OpenAI', 'GPT'])\n",
    " arr = np.array(['Hello', 'World', 'OpenAI', 'GPT']"
   ]
  },
  {
   "cell_type": "code",
   "execution_count": 7,
   "id": "6a8f5f5c-9b45-454e-82b4-521844def71f",
   "metadata": {},
   "outputs": [
    {
     "name": "stdout",
     "output_type": "stream",
     "text": [
      "Uppercase characters from each string: ['H', 'W', 'OAI', 'GPT']\n"
     ]
    }
   ],
   "source": [
    "import numpy as np\n",
    "\n",
    "def extract_uppercase(arr):\n",
    "    # Extract uppercase characters from each string\n",
    "    return [''.join([char for char in s if char.isupper()]) for s in arr]\n",
    "\n",
    "# Sample array\n",
    "arr = np.array(['Hello', 'World', 'OpenAI', 'GPT'])\n",
    "\n",
    "# Call the function\n",
    "uppercase_chars = extract_uppercase(arr)\n",
    "\n",
    "print(\"Uppercase characters from each string:\", uppercase_chars)\n"
   ]
  },
  {
   "cell_type": "code",
   "execution_count": null,
   "id": "13261329-4faf-4d60-bd41-c713d52e9626",
   "metadata": {},
   "outputs": [],
   "source": [
    "58. Write a function that replaces occurrences of a substring in a NumPy array of strings with a new string.\n",
    " arr = np.array(['apple', 'banana', 'grape', 'pineapple'])"
   ]
  },
  {
   "cell_type": "code",
   "execution_count": 8,
   "id": "33fe67eb-c6f8-43dd-a61d-8f9a284528f3",
   "metadata": {},
   "outputs": [
    {
     "name": "stdout",
     "output_type": "stream",
     "text": [
      "Modified array: ['orange' 'banana' 'grape' 'pineorange']\n"
     ]
    }
   ],
   "source": [
    "import numpy as np\n",
    "\n",
    "def replace_substring(arr, old, new):\n",
    "    # Use vectorized np.char.replace for efficiency\n",
    "    return np.char.replace(arr, old, new)\n",
    "\n",
    "# Sample array\n",
    "arr = np.array(['apple', 'banana', 'grape', 'pineapple'])\n",
    "\n",
    "# Replace 'apple' with 'orange'\n",
    "result = replace_substring(arr, 'apple', 'orange')\n",
    "\n",
    "print(\"Modified array:\", result)\n"
   ]
  },
  {
   "cell_type": "code",
   "execution_count": null,
   "id": "9c81c2cf-cae0-4eeb-83f1-5a3d423a339d",
   "metadata": {},
   "outputs": [],
   "source": [
    " 59. Write a function that concatenates strings in a NumPy array element-wise.\n",
    " arr1 = np.array(['Hello', 'World']) ",
    "\n",
    " arr2 = np.array(['Open', 'AI'])\n",
    " "
   ]
  },
  {
   "cell_type": "code",
   "execution_count": 10,
   "id": "f0cfbc47-26ef-4808-8eda-542f7b4f0422",
   "metadata": {},
   "outputs": [
    {
     "name": "stdout",
     "output_type": "stream",
     "text": [
      "Concatenatesd array: ['HelloOpen' 'WorldAI']\n"
     ]
    }
   ],
   "source": [
    "import numpy as np\n",
    "\n",
    "def concatenate_elementwise(arr1, arr2):\n",
    "    # Use np.char.add for element-wise string concatenation\n",
    "    return np.char.add(arr1, arr2)\n",
    "\n",
    "# Sample arrays\n",
    "arr1 = np.array(['Hello', 'World'])\n",
    "arr2 = np.array(['Open', 'AI'])\n",
    "\n",
    "# Call the function\n",
    "result = concatenate_elementwise(arr1, arr2)\n",
    "\n",
    "print(\"Concatenated array:\", result)\n"
   ]
  },
  {
   "cell_type": "code",
   "execution_count": null,
   "id": "ffb01616-6058-438d-93b3-438cbae56afd",
   "metadata": {},
   "outputs": [],
   "source": [
    " 60. Write a function that finds the length of the longest string in a NumPy array.\n",
    " arr = np.array(['apple', 'banana', 'grape', 'pineapple'])\n",
    " arr = np.array(['apple', 'banana', 'grape', 'pineapple'])"
   ]
  },
  {
   "cell_type": "code",
   "execution_count": 11,
   "id": "7fe7cf02-46be-4a42-9585-936a3f62a229",
   "metadata": {},
   "outputs": [
    {
     "name": "stdout",
     "output_type": "stream",
     "text": [
      "Length of the longest string: 9\n"
     ]
    }
   ],
   "source": [
    "import numpy as np\n",
    "\n",
    "def longest_string_length(arr):\n",
    "    # Use np.char.str_len to get the length of each string and return the maximum length\n",
    "    return np.max(np.char.str_len(arr))\n",
    "\n",
    "# Sample array\n",
    "arr = np.array(['apple', 'banana', 'grape', 'pineapple'])\n",
    "\n",
    "# Call the function\n",
    "longest_length = longest_string_length(arr)\n",
    "\n",
    "print(\"Length of the longest string:\", longest_length)\n"
   ]
  },
  {
   "cell_type": "code",
   "execution_count": null,
   "id": "020f2f13-38c0-43b4-901d-6538f53e6270",
   "metadata": {},
   "outputs": [],
   "source": [
    "  61. Create a dataset of 100 random integers between 1 and 1000. Compute the mean, median, variance, and \n",
    "standard deviation of the dataset using NumPy's functions"
   ]
  },
  {
   "cell_type": "code",
   "execution_count": 12,
   "id": "4964349d-c594-49fc-a037-22ee779ba22f",
   "metadata": {},
   "outputs": [
    {
     "name": "stdout",
     "output_type": "stream",
     "text": [
      "Mean: 469.09\n",
      "Median: 489.0\n",
      "Variance: 83635.8819\n",
      "Standard Deviation: 289.1986893123826\n"
     ]
    }
   ],
   "source": [
    "import numpy as np\n",
    "\n",
    "# Create a dataset of 100 random integers between 1 and 1000\n",
    "dataset = np.random.randint(1, 1001, size=100)\n",
    "\n",
    "# Compute mean, median, variance, and standard deviation\n",
    "mean = np.mean(dataset)\n",
    "median = np.median(dataset)\n",
    "variance = np.var(dataset)\n",
    "std_deviation = np.std(dataset)\n",
    "\n",
    "# Display the results\n",
    "print(f\"Mean: {mean}\")\n",
    "print(f\"Median: {median}\")\n",
    "print(f\"Variance: {variance}\")\n",
    "print(f\"Standard Deviation: {std_deviation}\")\n"
   ]
  },
  {
   "cell_type": "code",
   "execution_count": null,
   "id": "ce059ecc-89e8-4c0e-9b70-9ac8c955cb2c",
   "metadata": {},
   "outputs": [],
   "source": [
    " 62. Generate an array of 50 random numbers between 1 and 100. Find the 25th and 75th percentiles of the dataset"
   ]
  },
  {
   "cell_type": "code",
   "execution_count": 13,
   "id": "7d612dcb-b812-4dc8-bebf-1017863d5b2a",
   "metadata": {},
   "outputs": [
    {
     "name": "stdout",
     "output_type": "stream",
     "text": [
      "25th Percentile: 29.75\n",
      "75th Percentile: 71.75\n"
     ]
    }
   ],
   "source": [
    "import numpy as np\n",
    "\n",
    "# Generate an array of 50 random numbers between 1 and 100\n",
    "dataset = np.random.randint(1, 101, size=50)\n",
    "\n",
    "# Calculate the 25th and 75th percentiles\n",
    "percentile_25 = np.percentile(dataset, 25)\n",
    "percentile_75 = np.percentile(dataset, 75)\n",
    "\n",
    "# Display the results\n",
    "print(f\"25th Percentile: {percentile_25}\")\n",
    "print(f\"75th Percentile: {percentile_75}\")\n"
   ]
  },
  {
   "cell_type": "code",
   "execution_count": null,
   "id": "2fea8cd2-3112-4297-afd1-f1b39ac1cddf",
   "metadata": {},
   "outputs": [],
   "source": [
    " 63. Create two arrays representing two sets of variables. Compute the correlation coefficient between these \n",
    "arrays using NumPy's `corrcoef` function.\n",
    " "
   ]
  },
  {
   "cell_type": "code",
   "execution_count": 1,
   "id": "6209a030-53eb-4ada-80ae-28cae1f7ca58",
   "metadata": {},
   "outputs": [
    {
     "name": "stdout",
     "output_type": "stream",
     "text": [
      "Correlation coefficient matrix:\n",
      "[[1. 1.]\n",
      " [1. 1.]]\n",
      "Correlation coefficient between x and y: 0.9999999999999999\n"
     ]
    }
   ],
   "source": [
    "import numpy as np\n",
    "\n",
    "# Create two arrays (variables)\n",
    "x = np.array([1, 2, 3, 4, 5])\n",
    "y = np.array([2, 4, 6, 8, 10])\n",
    "\n",
    "# Compute the correlation coefficient matrix\n",
    "correlation_matrix = np.corrcoef(x, y)\n",
    "\n",
    "print(\"Correlation coefficient matrix:\")\n",
    "print(correlation_matrix)\n",
    "\n",
    "# To get just the correlation coefficient between x and y\n",
    "correlation_coefficient = correlation_matrix[0, 1]\n",
    "print(\"Correlation coefficient between x and y:\", correlation_coefficient)\n"
   ]
  },
  {
   "cell_type": "code",
   "execution_count": null,
   "id": "453a3a52-db52-4405-98fe-74f010112654",
   "metadata": {},
   "outputs": [],
   "source": [
    " 64. Create two matrices and perform matrix multiplication using NumPy's `dot` function."
   ]
  },
  {
   "cell_type": "code",
   "execution_count": 2,
   "id": "3dee103a-0604-4a26-ac8f-018a9d6ea856",
   "metadata": {},
   "outputs": [
    {
     "name": "stdout",
     "output_type": "stream",
     "text": [
      "Matrix A:\n",
      "[[1 2]\n",
      " [3 4]]\n",
      "\n",
      "Matrix B:\n",
      "[[5 6]\n",
      " [7 8]]\n",
      "\n",
      "Result of A dot B:\n",
      "[[19 22]\n",
      " [43 50]]\n"
     ]
    }
   ],
   "source": [
    "import numpy as np\n",
    "\n",
    "# Define two matrices\n",
    "A = np.array([[1, 2], \n",
    "              [3, 4]])\n",
    "\n",
    "B = np.array([[5, 6], \n",
    "              [7, 8]])\n",
    "\n",
    "# Perform matrix multiplication using dot()\n",
    "result = np.dot(A, B)\n",
    "\n",
    "print(\"Matrix A:\")\n",
    "print(A)\n",
    "\n",
    "print(\"\\nMatrix B:\")\n",
    "print(B)\n",
    "\n",
    "print(\"\\nResult of A dot B:\")\n",
    "print(result)\n"
   ]
  },
  {
   "cell_type": "code",
   "execution_count": null,
   "id": "a09f799e-0b6a-4ac2-b287-2c31f76908aa",
   "metadata": {},
   "outputs": [],
   "source": [
    " Create an array of 50 integers between 10 and 1000. Calculate the 10th, 50th (median), and 90th \n",
    "percentiles along with the first and third quartiles."
   ]
  },
  {
   "cell_type": "code",
   "execution_count": 3,
   "id": "a1e07045-3194-4ccf-824f-1913333e164d",
   "metadata": {},
   "outputs": [
    {
     "name": "stdout",
     "output_type": "stream",
     "text": [
      "Data array:\n",
      " [489 114 659 721 241 467 274 201 544 331 372 804 981  89  71 290 814 586\n",
      " 684 226 443 164 526 599  13 716 542 132 404  60 500  84 428 630 467 825\n",
      " 755 384 592 196 154 319 313 973 770 888 533 963 680 545]\n",
      "\n",
      "10th percentile: 111.50000000000001\n",
      "Median (50th percentile): 478.0\n",
      "90th percentile: 815.1\n",
      "First quartile (Q1 - 25th percentile): 249.25\n",
      "Third quartile (Q3 - 75th percentile): 674.75\n"
     ]
    }
   ],
   "source": [
    "import numpy as np\n",
    "\n",
    "# Create an array of 50 random integers between 10 and 1000\n",
    "data = np.random.randint(10, 1001, size=50)\n",
    "\n",
    "# Calculate percentiles and quartiles\n",
    "percentile_10 = np.percentile(data, 10)\n",
    "median = np.percentile(data, 50)  # or np.median(data)\n",
    "percentile_90 = np.percentile(data, 90)\n",
    "q1 = np.percentile(data, 25)\n",
    "q3 = np.percentile(data, 75)\n",
    "\n",
    "# Print results\n",
    "print(\"Data array:\\n\", data)\n",
    "print(f\"\\n10th percentile: {percentile_10}\")\n",
    "print(f\"Median (50th percentile): {median}\")\n",
    "print(f\"90th percentile: {percentile_90}\")\n",
    "print(f\"First quartile (Q1 - 25th percentile): {q1}\")\n",
    "print(f\"Third quartile (Q3 - 75th percentile): {q3}\")\n"
   ]
  },
  {
   "cell_type": "code",
   "execution_count": null,
   "id": "f7be0bb5-08ad-4688-ae32-ba054201fbd4",
   "metadata": {},
   "outputs": [],
   "source": [
    " Create a NumPy array of integers and find the index of a specific element."
   ]
  },
  {
   "cell_type": "code",
   "execution_count": 4,
   "id": "1c64591f-7262-49a4-9197-70e5844c5fa6",
   "metadata": {},
   "outputs": [
    {
     "name": "stdout",
     "output_type": "stream",
     "text": [
      "Array: [10 20 30 40 50 60]\n",
      "Index of element 40: 3\n"
     ]
    }
   ],
   "source": [
    "import numpy as np\n",
    "\n",
    "# Create a NumPy array\n",
    "arr = np.array([10, 20, 30, 40, 50, 60])\n",
    "\n",
    "# Define the element to find\n",
    "element_to_find = 40\n",
    "\n",
    "# Find the index of the element\n",
    "index = np.where(arr == element_to_find)\n",
    "\n",
    "print(\"Array:\", arr)\n",
    "print(f\"Index of element {element_to_find}:\", index[0][0])\n"
   ]
  },
  {
   "cell_type": "code",
   "execution_count": null,
   "id": "fe1ccfdf-3eda-407e-99f8-38627fa4e13d",
   "metadata": {},
   "outputs": [],
   "source": []
  },
  {
   "cell_type": "code",
   "execution_count": null,
   "id": "a24f042d-a6a4-4315-8d06-4a835ab56a18",
   "metadata": {},
   "outputs": [],
   "source": [
    "67. Generate a random NumPy array and sort it in ascending order"
   ]
  },
  {
   "cell_type": "code",
   "execution_count": 5,
   "id": "9d85a935-475d-4d2d-89aa-783e9797c4f1",
   "metadata": {},
   "outputs": [
    {
     "name": "stdout",
     "output_type": "stream",
     "text": [
      "Original array: [73 81 35 64 30 86 39 86 92  3]\n",
      "Sorted array (ascending): [ 3 30 35 39 64 73 81 86 86 92]\n"
     ]
    }
   ],
   "source": [
    "import numpy as np\n",
    "\n",
    "# Generate a random NumPy array of 10 integers between 1 and 100\n",
    "random_array = np.random.randint(1, 101, size=10)\n",
    "\n",
    "# Sort the array in ascending order\n",
    "sorted_array = np.sort(random_array)\n",
    "\n",
    "print(\"Original array:\", random_array)\n",
    "print(\"Sorted array (ascending):\", sorted_array)\n"
   ]
  },
  {
   "cell_type": "code",
   "execution_count": null,
   "id": "9549e5e0-c2e2-40d5-a81a-0ec93c9bf88e",
   "metadata": {},
   "outputs": [],
   "source": []
  },
  {
   "cell_type": "code",
   "execution_count": null,
   "id": "7ceb1107-fb88-4d84-8397-033bdbae9798",
   "metadata": {},
   "outputs": [],
   "source": [
    " 68. Filter elements >20  in the given NumPy array.\n",
    " arr = np.array([12, 25, 6, 42, 8, 30])"
   ]
  },
  {
   "cell_type": "code",
   "execution_count": 6,
   "id": "5cf6e75b-373e-4abc-90f3-ce31bf14264f",
   "metadata": {},
   "outputs": [
    {
     "name": "stdout",
     "output_type": "stream",
     "text": [
      "Original array: [12 25  6 42  8 30]\n",
      "Filtered elements > 20: [25 42 30]\n"
     ]
    }
   ],
   "source": [
    "import numpy as np\n",
    "\n",
    "arr = np.array([12, 25, 6, 42, 8, 30])\n",
    "\n",
    "# Filter elements greater than 20\n",
    "filtered = arr[arr > 20]\n",
    "\n",
    "print(\"Original array:\", arr)\n",
    "print(\"Filtered elements > 20:\", filtered)\n"
   ]
  },
  {
   "cell_type": "code",
   "execution_count": null,
   "id": "9917db2e-fdc5-44d6-8f32-f3ba04ef1d68",
   "metadata": {},
   "outputs": [],
   "source": [
    " Filter elements which are divisible by 3 from a given NumPy array.\n",
    " arr = np.array([1, 5, 8, 12, 15]"
   ]
  },
  {
   "cell_type": "code",
   "execution_count": 7,
   "id": "dd0025ce-109f-421e-9652-57c5ca683eb2",
   "metadata": {},
   "outputs": [
    {
     "name": "stdout",
     "output_type": "stream",
     "text": [
      "Original array: [ 1  5  8 12 15]\n",
      "Elements divisible by 3: [12 15]\n"
     ]
    }
   ],
   "source": [
    "import numpy as np\n",
    "\n",
    "arr = np.array([1, 5, 8, 12, 15])\n",
    "\n",
    "# Filter elements divisible by 3\n",
    "div_by_3 = arr[arr % 3 == 0]\n",
    "\n",
    "print(\"Original array:\", arr)\n",
    "print(\"Elements divisible by 3:\", div_by_3)\n"
   ]
  },
  {
   "cell_type": "code",
   "execution_count": null,
   "id": "a9912e9a-14eb-402b-b89f-090c1848afcb",
   "metadata": {},
   "outputs": [],
   "source": [
    " 70.Filter elements which are ≥ 20 and ≤ 40 from a given NumPy array.\n",
    " arr = np.array([10, 20, 30, 40, 50]"
   ]
  },
  {
   "cell_type": "code",
   "execution_count": 1,
   "id": "8c77b361-8197-4194-aaf3-1e922180c223",
   "metadata": {},
   "outputs": [
    {
     "name": "stdout",
     "output_type": "stream",
     "text": [
      "[20 30 40]\n"
     ]
    }
   ],
   "source": [
    "import numpy as np\n",
    "\n",
    "# Create the NumPy array\n",
    "arr = np.array([10, 20, 30, 40, 50])\n",
    "\n",
    "# Filter elements between 20 and 40 (inclusive)\n",
    "filtered_arr = arr[(arr >= 20) & (arr <= 40)]\n",
    "\n",
    "# Print the filtered array\n",
    "print(filtered_arr)\n"
   ]
  },
  {
   "cell_type": "code",
   "execution_count": null,
   "id": "48f146b7-c074-4105-9303-d7c4aae9bd46",
   "metadata": {},
   "outputs": [],
   "source": [
    "71. For the given NumPy array, check its byte order using the `dtype` attribute byteorder.\n",
    " arr = np.array([1, 2, 3])"
   ]
  },
  {
   "cell_type": "code",
   "execution_count": 2,
   "id": "88d7090e-7b12-440f-927a-9b97c8a3ac2f",
   "metadata": {},
   "outputs": [
    {
     "name": "stdout",
     "output_type": "stream",
     "text": [
      "Byte order: =\n"
     ]
    }
   ],
   "source": [
    "import numpy as np\n",
    "\n",
    "# Create the NumPy array\n",
    "arr = np.array([1, 2, 3])\n",
    "\n",
    "# Check the byte order\n",
    "byte_order = arr.dtype.byteorder\n",
    "\n",
    "print(\"Byte order:\", byte_order)\n"
   ]
  },
  {
   "cell_type": "code",
   "execution_count": null,
   "id": "10ac0cf7-f018-4ae8-adf0-0f65b673527d",
   "metadata": {},
   "outputs": [],
   "source": [
    " For the given NumPy array, perform byte swapping in place using `byteswap()`.\n",
    " arr = np.array([1, 2, 3], dtype=np.int32)"
   ]
  },
  {
   "cell_type": "code",
   "execution_count": 3,
   "id": "d2080f80-36ac-42e2-a4c9-23156df3196c",
   "metadata": {},
   "outputs": [
    {
     "name": "stdout",
     "output_type": "stream",
     "text": [
      "[16777216 33554432 50331648]\n"
     ]
    }
   ],
   "source": [
    "import numpy as np\n",
    "\n",
    "# Create the NumPy array with dtype np.int32\n",
    "arr = np.array([1, 2, 3], dtype=np.int32)\n",
    "\n",
    "# Perform in-place byte swapping\n",
    "arr.byteswap(inplace=True)\n",
    "\n",
    "# Display the modified array\n",
    "print(arr)\n"
   ]
  },
  {
   "cell_type": "code",
   "execution_count": null,
   "id": "104ebf65-7c68-4e2b-bb78-cd82573e0834",
   "metadata": {},
   "outputs": [],
   "source": [
    "73. For the given NumPy array, swap its byte order without modifying the original array using \n",
    "`newbyteorder()`.\n",
    " arr = np.array([1, 2, 3], dtype=np.int32)\n",
    " "
   ]
  },
  {
   "cell_type": "code",
   "execution_count": 4,
   "id": "6c41c24c-f94b-485c-b463-7f75bfce9515",
   "metadata": {},
   "outputs": [
    {
     "ename": "AttributeError",
     "evalue": "`newbyteorder` was removed from the ndarray class in NumPy 2.0. Use `arr.view(arr.dtype.newbyteorder(order))` instead.",
     "output_type": "error",
     "traceback": [
      "\u001b[1;31m---------------------------------------------------------------------------\u001b[0m",
      "\u001b[1;31mAttributeError\u001b[0m                            Traceback (most recent call last)",
      "Cell \u001b[1;32mIn[4], line 7\u001b[0m\n\u001b[0;32m      4\u001b[0m arr \u001b[38;5;241m=\u001b[39m np\u001b[38;5;241m.\u001b[39marray([\u001b[38;5;241m1\u001b[39m, \u001b[38;5;241m2\u001b[39m, \u001b[38;5;241m3\u001b[39m], dtype\u001b[38;5;241m=\u001b[39mnp\u001b[38;5;241m.\u001b[39mint32)\n\u001b[0;32m      6\u001b[0m \u001b[38;5;66;03m# Swap the byte order without modifying the original array\u001b[39;00m\n\u001b[1;32m----> 7\u001b[0m swapped_arr \u001b[38;5;241m=\u001b[39m \u001b[43marr\u001b[49m\u001b[38;5;241;43m.\u001b[39;49m\u001b[43mnewbyteorder\u001b[49m()\n\u001b[0;32m      9\u001b[0m \u001b[38;5;66;03m# Display the original and swapped arrays\u001b[39;00m\n\u001b[0;32m     10\u001b[0m \u001b[38;5;28mprint\u001b[39m(\u001b[38;5;124m\"\u001b[39m\u001b[38;5;124mOriginal array:\u001b[39m\u001b[38;5;124m\"\u001b[39m, arr)\n",
      "\u001b[1;31mAttributeError\u001b[0m: `newbyteorder` was removed from the ndarray class in NumPy 2.0. Use `arr.view(arr.dtype.newbyteorder(order))` instead."
     ]
    }
   ],
   "source": [
    "import numpy as np\n",
    "\n",
    "# Create the NumPy array with dtype np.int32\n",
    "arr = np.array([1, 2, 3], dtype=np.int32)\n",
    "\n",
    "# Swap the byte order without modifying the original array\n",
    "swapped_arr = arr.newbyteorder()\n",
    "\n",
    "# Display the original and swapped arrays\n",
    "print(\"Original array:\", arr)\n",
    "print(\"Swapped byte order array:\", swapped_arr)\n"
   ]
  },
  {
   "cell_type": "code",
   "execution_count": null,
   "id": "8abb0f1a-3fd1-4b64-8baf-a09d27203703",
   "metadata": {},
   "outputs": [],
   "source": [
    "74. For the given NumPy array and swap its byte order conditionally based on system endianness using \n",
    "`newbyteorder()`.\n",
    " arr = np.array([1, 2, 3], dtype=np.int32)"
   ]
  },
  {
   "cell_type": "code",
   "execution_count": 5,
   "id": "31f47054-9efa-4a2a-9ab7-ebc29a829daf",
   "metadata": {},
   "outputs": [
    {
     "ename": "AttributeError",
     "evalue": "`newbyteorder` was removed from the ndarray class in NumPy 2.0. Use `arr.view(arr.dtype.newbyteorder(order))` instead.",
     "output_type": "error",
     "traceback": [
      "\u001b[1;31m---------------------------------------------------------------------------\u001b[0m",
      "\u001b[1;31mAttributeError\u001b[0m                            Traceback (most recent call last)",
      "Cell \u001b[1;32mIn[5], line 12\u001b[0m\n\u001b[0;32m     10\u001b[0m \u001b[38;5;66;03m# Swap the byte order only if the system's byte order is little-endian\u001b[39;00m\n\u001b[0;32m     11\u001b[0m \u001b[38;5;28;01mif\u001b[39;00m system_byteorder \u001b[38;5;241m==\u001b[39m \u001b[38;5;124m'\u001b[39m\u001b[38;5;124mlittle\u001b[39m\u001b[38;5;124m'\u001b[39m:\n\u001b[1;32m---> 12\u001b[0m     swapped_arr \u001b[38;5;241m=\u001b[39m \u001b[43marr\u001b[49m\u001b[38;5;241;43m.\u001b[39;49m\u001b[43mnewbyteorder\u001b[49m(\u001b[38;5;124m'\u001b[39m\u001b[38;5;124m>\u001b[39m\u001b[38;5;124m'\u001b[39m)\n\u001b[0;32m     13\u001b[0m \u001b[38;5;28;01melse\u001b[39;00m:\n\u001b[0;32m     14\u001b[0m     swapped_arr \u001b[38;5;241m=\u001b[39m arr\u001b[38;5;241m.\u001b[39mnewbyteorder(\u001b[38;5;124m'\u001b[39m\u001b[38;5;124m<\u001b[39m\u001b[38;5;124m'\u001b[39m)\n",
      "\u001b[1;31mAttributeError\u001b[0m: `newbyteorder` was removed from the ndarray class in NumPy 2.0. Use `arr.view(arr.dtype.newbyteorder(order))` instead."
     ]
    }
   ],
   "source": [
    "import numpy as np\n",
    "import sys\n",
    "\n",
    "# Create the NumPy array with dtype np.int32\n",
    "arr = np.array([1, 2, 3], dtype=np.int32)\n",
    "\n",
    "# Determine the system's byte order\n",
    "system_byteorder = sys.byteorder\n",
    "\n",
    "# Swap the byte order only if the system's byte order is little-endian\n",
    "if system_byteorder == 'little':\n",
    "    swapped_arr = arr.newbyteorder('>')\n",
    "else:\n",
    "    swapped_arr = arr.newbyteorder('<')\n",
    "\n",
    "# Display the original and swapped arrays\n",
    "print(\"Original array:\", arr)\n",
    "print(\"Swapped byte order array:\", swapped_arr)\n"
   ]
  },
  {
   "cell_type": "code",
   "execution_count": null,
   "id": "fedcaab3-5773-4e96-a7be-bdd937a16e79",
   "metadata": {},
   "outputs": [],
   "source": [
    "75 For the given NumPy array, check if byte swapping is necessary for the current system using `dtype` \n",
    "attribute `byteorder`.\n",
    " arr = np.array([1, 2, 3], dtype=np.int32"
   ]
  },
  {
   "cell_type": "code",
   "execution_count": 2,
   "id": "76660be4-3e27-4a5a-a045-6d20fc9ee90a",
   "metadata": {},
   "outputs": [
    {
     "name": "stdout",
     "output_type": "stream",
     "text": [
      "Byte order is native. No byte swapping needed.\n"
     ]
    }
   ],
   "source": [
    "import numpy as np\n",
    "import sys\n",
    "\n",
    "arr = np.array([1, 2, 3], dtype=np.int32)\n",
    "\n",
    "# Check the byte order of the array's dtype\n",
    "byte_order = arr.dtype.byteorder\n",
    "\n",
    "# Get the native byte order of the system\n",
    "native_order = sys.byteorder  # 'little' or 'big'\n",
    "\n",
    "# Determine if byte swapping is needed\n",
    "if byte_order == '=':\n",
    "    print(\"Byte order is native. No byte swapping needed.\")\n",
    "elif (byte_order == '<' and native_order == 'big') or (byte_order == '>' and native_order == 'little'):\n",
    "    print(\"Byte swapping is necessary.\")\n",
    "\n"
   ]
  },
  {
   "cell_type": "code",
   "execution_count": null,
   "id": "053d26c5-b258-4851-9fa2-38c322d229d3",
   "metadata": {},
   "outputs": [],
   "source": [
    "76. Create a NumPy array `arr1` with values from 1 to 10. Create a copy of `arr1` named `copy_arr` and modify \n",
    "an element in `copy_arr`. Check if modifying `copy_arr` affects `arr1`."
   ]
  },
  {
   "cell_type": "code",
   "execution_count": 3,
   "id": "f7f7773b-8b5d-4492-b84a-a4a4d03d1cc8",
   "metadata": {},
   "outputs": [
    {
     "name": "stdout",
     "output_type": "stream",
     "text": [
      "arr1: [ 1  2  3  4  5  6  7  8  9 10]\n",
      "copy_arr: [100   2   3   4   5   6   7   8   9  10]\n"
     ]
    }
   ],
   "source": [
    "import numpy as np\n",
    "\n",
    "# Step 1: Create arr1 with values from 1 to 10\n",
    "arr1 = np.arange(1, 11)\n",
    "\n",
    "# Step 2: Create a copy of arr1\n",
    "copy_arr = arr1.copy()\n",
    "\n",
    "# Step 3: Modify an element in copy_arr\n",
    "copy_arr[0] = 100\n",
    "\n",
    "# Step 4: Print both arrays to check if arr1 is affected\n",
    "print(\"arr1:\", arr1)\n",
    "print(\"copy_arr:\", copy_arr)\n"
   ]
  },
  {
   "cell_type": "code",
   "execution_count": null,
   "id": "beadbd4c-5a71-4ad5-9b50-3b87191c398b",
   "metadata": {},
   "outputs": [],
   "source": [
    "77. Create a 2D NumPy array `matrix` of shape (3, 3) with random integers. Extract a slice `view_slice` from \n",
    "the matrix. Modify an element in `view_slice` and observe if it changes the original `matrix`."
   ]
  },
  {
   "cell_type": "code",
   "execution_count": 4,
   "id": "51486f9c-aec4-4b11-875a-dc58c2facdac",
   "metadata": {},
   "outputs": [
    {
     "name": "stdout",
     "output_type": "stream",
     "text": [
      "Modified view_slice:\n",
      " [[999   8]\n",
      " [  2   7]]\n",
      "Original matrix:\n",
      " [[999   8  10]\n",
      " [  2   7   9]\n",
      " [  8   1   9]]\n"
     ]
    }
   ],
   "source": [
    "import numpy as np\n",
    "\n",
    "# Step 1: Create a 3x3 matrix with random integers between 1 and 10\n",
    "matrix = np.random.randint(1, 11, size=(3, 3))\n",
    "\n",
    "# Step 2: Extract a slice (e.g., first two rows and first two columns)\n",
    "view_slice = matrix[:2, :2]\n",
    "\n",
    "# Step 3: Modify an element in the slice\n",
    "view_slice[0, 0] = 999\n",
    "\n",
    "# Step 4: Print both arrays\n",
    "print(\"Modified view_slice:\\n\", view_slice)\n",
    "print(\"Original matrix:\\n\", matrix)\n"
   ]
  },
  {
   "cell_type": "code",
   "execution_count": null,
   "id": "3cd86c69-b569-424f-a157-dd4ff2369b9a",
   "metadata": {},
   "outputs": [],
   "source": [
    "78.Create a NumPy array `array_a` of shape (4, 3) with sequential integers from 1 to 12. Extract a slice \n",
    "`view_b` from `array_a` and broadcast the addition of 5 to view_b. Check if it alters the original `array_a`"
   ]
  },
  {
   "cell_type": "code",
   "execution_count": 5,
   "id": "70164257-10ec-4d85-ae8b-d4a03e8c628b",
   "metadata": {},
   "outputs": [
    {
     "name": "stdout",
     "output_type": "stream",
     "text": [
      "Modified view_b:\n",
      " [[ 6  7  8]\n",
      " [ 9 10 11]]\n",
      "Original array_a:\n",
      " [[ 6  7  8]\n",
      " [ 9 10 11]\n",
      " [ 7  8  9]\n",
      " [10 11 12]]\n"
     ]
    }
   ],
   "source": [
    "import numpy as np\n",
    "\n",
    "# Step 1: Create array_a with values 1 to 12 reshaped to (4, 3)\n",
    "array_a = np.arange(1, 13).reshape(4, 3)\n",
    "\n",
    "# Step 2: Extract a slice (view), e.g., first two rows\n",
    "view_b = array_a[:2, :]\n",
    "\n",
    "# Step 3: Broadcast-add 5 to view_b (in-place)\n",
    "view_b += 5  # This modifies the original array in-place\n",
    "\n",
    "# Step 4: Print to check the effect\n",
    "print(\"Modified view_b:\\n\", view_b)\n",
    "print(\"Original array_a:\\n\", array_a)\n"
   ]
  },
  {
   "cell_type": "code",
   "execution_count": 7,
   "id": "c5987565-cf9e-491d-8ba1-fc29e6f09c9b",
   "metadata": {},
   "outputs": [
    {
     "name": "stdout",
     "output_type": "stream",
     "text": [
      "reshaped_view:\n",
      " [[999   2]\n",
      " [  3   4]\n",
      " [  5   6]\n",
      " [  7   8]]\n",
      "orig_array:\n",
      " [[999   2   3   4]\n",
      " [  5   6   7   8]]\n"
     ]
    }
   ],
   "source": [
    "#79\n",
    "import numpy as np\n",
    "\n",
    "# Step 1: Create orig_array with shape (2, 4) and values from 1 to 8\n",
    "orig_array = np.arange(1, 9).reshape(2, 4)\n",
    "\n",
    "# Step 2: Create a reshaped view with shape (4, 2)\n",
    "reshaped_view = orig_array.reshape(4, 2)\n",
    "\n",
    "# Step 3: Modify an element in reshaped_view\n",
    "reshaped_view[0, 0] = 999\n",
    "\n",
    "# Step 4: Print both arrays to see if the change reflects in the original\n",
    "print(\"reshaped_view:\\n\", reshaped_view)\n",
    "print(\"orig_array:\\n\", orig_array)\n"
   ]
  },
  {
   "cell_type": "code",
   "execution_count": null,
   "id": "8f48ee6b-2970-4391-94f9-48f5df806b28",
   "metadata": {},
   "outputs": [],
   "source": [
    "80.Create a NumPy array `data` of shape (3, 4) with random integers. Extract a copy `data_copy` of \n",
    "elements greater than 5. Modify an element in `data_copy` and verify if it affects the original `data"
   ]
  },
  {
   "cell_type": "code",
   "execution_count": 8,
   "id": "e7c4279b-e74f-4d8c-9158-ab0fa85ab2d8",
   "metadata": {},
   "outputs": [
    {
     "name": "stdout",
     "output_type": "stream",
     "text": [
      "Original data:\n",
      " [[ 8  5  1  2]\n",
      " [10  6  5  5]\n",
      " [ 3  7  8  9]]\n",
      "Modified data_copy:\n",
      " [999  10   6   7   8   9]\n"
     ]
    }
   ],
   "source": [
    "import numpy as np\n",
    "\n",
    "# Step 1: Create a 3x4 array with random integers between 1 and 10\n",
    "data = np.random.randint(1, 11, size=(3, 4))\n",
    "\n",
    "# Step 2: Extract elements greater than 5 and store as a copy\n",
    "data_copy = data[data > 5].copy()\n",
    "\n",
    "# Step 3: Modify an element in the copy\n",
    "if data_copy.size > 0:\n",
    "    data_copy[0] = 999\n",
    "\n",
    "# Step 4: Print both arrays\n",
    "print(\"Original data:\\n\", data)\n",
    "print(\"Modified data_copy:\\n\", data_copy)\n"
   ]
  },
  {
   "cell_type": "code",
   "execution_count": null,
   "id": "e2b4c520-c13e-43d2-9173-4f2c7163663c",
   "metadata": {},
   "outputs": [],
   "source": [
    "81. Create two matrices A and B of identical shape containing integers and perform addition and subtraction \n",
    "operations between them.\n"
   ]
  },
  {
   "cell_type": "code",
   "execution_count": 9,
   "id": "46ccae92-3f96-440d-89d0-7e7bd333914f",
   "metadata": {},
   "outputs": [
    {
     "name": "stdout",
     "output_type": "stream",
     "text": [
      "Matrix A:\n",
      " [[1 2 3]\n",
      " [4 5 6]\n",
      " [7 8 9]]\n",
      "Matrix B:\n",
      " [[9 8 7]\n",
      " [6 5 4]\n",
      " [3 2 1]]\n",
      "Addition (A + B):\n",
      " [[10 10 10]\n",
      " [10 10 10]\n",
      " [10 10 10]]\n",
      "Subtraction (A - B):\n",
      " [[-8 -6 -4]\n",
      " [-2  0  2]\n",
      " [ 4  6  8]]\n"
     ]
    }
   ],
   "source": [
    "import numpy as np\n",
    "\n",
    "# Step 1: Create two 3x3 matrices A and B with integer values\n",
    "A = np.array([[1, 2, 3],\n",
    "              [4, 5, 6],\n",
    "              [7, 8, 9]])\n",
    "\n",
    "B = np.array([[9, 8, 7],\n",
    "              [6, 5, 4],\n",
    "              [3, 2, 1]])\n",
    "\n",
    "# Step 2: Perform addition and subtraction\n",
    "add_result = A + B\n",
    "sub_result = A - B\n",
    "\n",
    "# Step 3: Print the results\n",
    "print(\"Matrix A:\\n\", A)\n",
    "print(\"Matrix B:\\n\", B)\n",
    "print(\"Addition (A + B):\\n\", add_result)\n",
    "print(\"Subtraction (A - B):\\n\", sub_result)\n"
   ]
  },
  {
   "cell_type": "code",
   "execution_count": null,
   "id": "25c3ef16-e2e9-489b-b3f1-d1f4419a81ed",
   "metadata": {},
   "outputs": [],
   "source": [
    "82.Generate two matrices `C` (3x2) and `D` (2x4) and perform matrix multiplication"
   ]
  },
  {
   "cell_type": "code",
   "execution_count": 10,
   "id": "8d204114-b30a-47ac-8442-3080b65fa555",
   "metadata": {},
   "outputs": [
    {
     "name": "stdout",
     "output_type": "stream",
     "text": [
      "Matrix C (3x2):\n",
      " [[1 2]\n",
      " [3 4]\n",
      " [5 6]]\n",
      "Matrix D (2x4):\n",
      " [[ 7  8  9 10]\n",
      " [11 12 13 14]]\n",
      "Matrix Multiplication Result (C @ D):\n",
      " [[ 29  32  35  38]\n",
      " [ 65  72  79  86]\n",
      " [101 112 123 134]]\n"
     ]
    }
   ],
   "source": [
    "import numpy as np\n",
    "\n",
    "# Step 1: Create matrix C (3x2)\n",
    "C = np.array([[1, 2],\n",
    "              [3, 4],\n",
    "              [5, 6]])\n",
    "\n",
    "# Step 2: Create matrix D (2x4)\n",
    "D = np.array([[7, 8, 9, 10],\n",
    "              [11, 12, 13, 14]])\n",
    "\n",
    "# Step 3: Perform matrix multiplication (C @ D)\n",
    "result = C @ D  # or use np.matmul(C, D)\n",
    "\n",
    "# Step 4: Print matrices and result\n",
    "print(\"Matrix C (3x2):\\n\", C)\n",
    "print(\"Matrix D (2x4):\\n\", D)\n",
    "print(\"Matrix Multiplication Result (C @ D):\\n\", result)\n"
   ]
  },
  {
   "cell_type": "code",
   "execution_count": null,
   "id": "516db549-cea8-4760-a231-23987be95a6b",
   "metadata": {},
   "outputs": [],
   "source": [
    "83. Create a matrix `E` and find its transpose"
   ]
  },
  {
   "cell_type": "code",
   "execution_count": 11,
   "id": "55394e25-c255-44ef-a666-6a02adaddd86",
   "metadata": {},
   "outputs": [
    {
     "name": "stdout",
     "output_type": "stream",
     "text": [
      "Matrix E:\n",
      " [[1 2]\n",
      " [3 4]\n",
      " [5 6]]\n",
      "Transpose of E:\n",
      " [[1 3 5]\n",
      " [2 4 6]]\n"
     ]
    }
   ],
   "source": [
    "import numpy as np\n",
    "\n",
    "# Step 1: Create a matrix E (e.g., 3x2)\n",
    "E = np.array([[1, 2],\n",
    "              [3, 4],\n",
    "              [5, 6]])\n",
    "\n",
    "# Step 2: Find the transpose of E\n",
    "E_transpose = E.T  # or np.transpose(E)\n",
    "\n",
    "# Step 3: Print both matrices\n",
    "print(\"Matrix E:\\n\", E)\n",
    "print(\"Transpose of E:\\n\", E_transpose)\n"
   ]
  },
  {
   "cell_type": "code",
   "execution_count": null,
   "id": "c7e04fd3-5ffb-4370-9aec-7579d4a5a991",
   "metadata": {},
   "outputs": [],
   "source": [
    "84. Generate a square matrix `F` and compute its determinant"
   ]
  },
  {
   "cell_type": "code",
   "execution_count": 12,
   "id": "6ba8df08-ac5c-4cd3-8341-2040d7c7210b",
   "metadata": {},
   "outputs": [
    {
     "name": "stdout",
     "output_type": "stream",
     "text": [
      "Matrix F:\n",
      " [[ 2  5  3]\n",
      " [ 1 -2 -1]\n",
      " [ 1  3  4]]\n",
      "Determinant of F: -20.000000000000007\n"
     ]
    }
   ],
   "source": [
    "import numpy as np\n",
    "\n",
    "# Step 1: Create a square matrix F (e.g., 3x3)\n",
    "F = np.array([[2, 5, 3],\n",
    "              [1, -2, -1],\n",
    "              [1, 3, 4]])\n",
    "\n",
    "# Step 2: Compute the determinant\n",
    "det_F = np.linalg.det(F)\n",
    "\n",
    "# Step 3: Print the matrix and its determinant\n",
    "print(\"Matrix F:\\n\", F)\n",
    "print(\"Determinant of F:\", det_F)\n"
   ]
  },
  {
   "cell_type": "code",
   "execution_count": null,
   "id": "bcece76d-3e38-4f6e-94e8-274e8bdf5402",
   "metadata": {},
   "outputs": [],
   "source": [
    " 85. Create a square matrix `G` and find its inverse"
   ]
  },
  {
   "cell_type": "code",
   "execution_count": 13,
   "id": "659a7956-db0f-45d1-9edf-db94be0d53f6",
   "metadata": {},
   "outputs": [
    {
     "name": "stdout",
     "output_type": "stream",
     "text": [
      "Matrix G:\n",
      " [[4 7]\n",
      " [2 6]]\n",
      "Inverse of G:\n",
      " [[ 0.6 -0.7]\n",
      " [-0.2  0.4]]\n"
     ]
    }
   ],
   "source": [
    "import numpy as np\n",
    "\n",
    "# Step 1: Create a square matrix G (e.g., 2x2 or 3x3)\n",
    "G = np.array([[4, 7],\n",
    "              [2, 6]])\n",
    "\n",
    "# Step 2: Compute the inverse of G (if it exists)\n",
    "try:\n",
    "    G_inv = np.linalg.inv(G)\n",
    "    print(\"Matrix G:\\n\", G)\n",
    "    print(\"Inverse of G:\\n\", G_inv)\n",
    "except np.linalg.LinAlgError:\n",
    "    print(\"Matrix G is singular and does not have an inverse.\")\n"
   ]
  },
  {
   "cell_type": "code",
   "execution_count": null,
   "id": "74164ec4-acc5-404e-bdaf-0a705c019520",
   "metadata": {},
   "outputs": [],
   "source": []
  }
 ],
 "metadata": {
  "kernelspec": {
   "display_name": "Python 3 (ipykernel)",
   "language": "python",
   "name": "python3"
  },
  "language_info": {
   "codemirror_mode": {
    "name": "ipython",
    "version": 3
   },
   "file_extension": ".py",
   "mimetype": "text/x-python",
   "name": "python",
   "nbconvert_exporter": "python",
   "pygments_lexer": "ipython3",
   "version": "3.13.2"
  }
 },
 "nbformat": 4,
 "nbformat_minor": 5
}
